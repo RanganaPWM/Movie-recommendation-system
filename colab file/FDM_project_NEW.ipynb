{
  "nbformat": 4,
  "nbformat_minor": 0,
  "metadata": {
    "colab": {
      "name": "FDM project NEW.ipynb",
      "provenance": []
    },
    "kernelspec": {
      "name": "python3",
      "display_name": "Python 3"
    },
    "language_info": {
      "name": "python"
    }
  },
  "cells": [
    {
      "cell_type": "code",
      "execution_count": 48,
      "metadata": {
        "id": "jh-qGQw1B0PR"
      },
      "outputs": [],
      "source": [
        "import numpy as np   # linear algebra\n",
        "import pandas as pd  # data processing, CSV file Input and Output \n"
      ]
    },
    {
      "cell_type": "code",
      "source": [
        ""
      ],
      "metadata": {
        "id": "Q1alvuLaRpZT"
      },
      "execution_count": null,
      "outputs": []
    },
    {
      "cell_type": "code",
      "source": [
        "movies = pd.read_csv('tmdb_5000_movies.csv')     #assign the movie table to a 'movie' variable\n",
        "credits = pd.read_csv('tmdb_5000_credits.csv')   #assign the credit table to a 'credit' variable"
      ],
      "metadata": {
        "id": "j4TpYo45CHR0"
      },
      "execution_count": 49,
      "outputs": []
    },
    {
      "cell_type": "code",
      "source": [
        "movies = movies.merge(credits,on='title')    #merged those two table together"
      ],
      "metadata": {
        "id": "FmuPC5k-FSTK"
      },
      "execution_count": 50,
      "outputs": []
    },
    {
      "cell_type": "code",
      "source": [
        "movies.head(1) #check the table header whether tables have joined "
      ],
      "metadata": {
        "colab": {
          "base_uri": "https://localhost:8080/",
          "height": 231
        },
        "id": "eL_mih_6KKSh",
        "outputId": "b5cdc0e4-34c0-4ddb-9fcd-02f690076f1f"
      },
      "execution_count": 51,
      "outputs": [
        {
          "output_type": "execute_result",
          "data": {
            "text/html": [
              "\n",
              "  <div id=\"df-21c00067-d52b-4809-8ea2-27111b2cb70a\">\n",
              "    <div class=\"colab-df-container\">\n",
              "      <div>\n",
              "<style scoped>\n",
              "    .dataframe tbody tr th:only-of-type {\n",
              "        vertical-align: middle;\n",
              "    }\n",
              "\n",
              "    .dataframe tbody tr th {\n",
              "        vertical-align: top;\n",
              "    }\n",
              "\n",
              "    .dataframe thead th {\n",
              "        text-align: right;\n",
              "    }\n",
              "</style>\n",
              "<table border=\"1\" class=\"dataframe\">\n",
              "  <thead>\n",
              "    <tr style=\"text-align: right;\">\n",
              "      <th></th>\n",
              "      <th>budget</th>\n",
              "      <th>genres</th>\n",
              "      <th>homepage</th>\n",
              "      <th>id</th>\n",
              "      <th>keywords</th>\n",
              "      <th>original_language</th>\n",
              "      <th>original_title</th>\n",
              "      <th>overview</th>\n",
              "      <th>popularity</th>\n",
              "      <th>production_companies</th>\n",
              "      <th>production_countries</th>\n",
              "      <th>release_date</th>\n",
              "      <th>revenue</th>\n",
              "      <th>runtime</th>\n",
              "      <th>spoken_languages</th>\n",
              "      <th>status</th>\n",
              "      <th>tagline</th>\n",
              "      <th>title</th>\n",
              "      <th>vote_average</th>\n",
              "      <th>vote_count</th>\n",
              "      <th>movie_id</th>\n",
              "      <th>cast</th>\n",
              "      <th>crew</th>\n",
              "    </tr>\n",
              "  </thead>\n",
              "  <tbody>\n",
              "    <tr>\n",
              "      <th>0</th>\n",
              "      <td>237000000</td>\n",
              "      <td>[{\"id\": 28, \"name\": \"Action\"}, {\"id\": 12, \"nam...</td>\n",
              "      <td>http://www.avatarmovie.com/</td>\n",
              "      <td>19995</td>\n",
              "      <td>[{\"id\": 1463, \"name\": \"culture clash\"}, {\"id\":...</td>\n",
              "      <td>en</td>\n",
              "      <td>Avatar</td>\n",
              "      <td>In the 22nd century, a paraplegic Marine is di...</td>\n",
              "      <td>150.437577</td>\n",
              "      <td>[{\"name\": \"Ingenious Film Partners\", \"id\": 289...</td>\n",
              "      <td>[{\"iso_3166_1\": \"US\", \"name\": \"United States o...</td>\n",
              "      <td>2009-12-10</td>\n",
              "      <td>2787965087</td>\n",
              "      <td>162.0</td>\n",
              "      <td>[{\"iso_639_1\": \"en\", \"name\": \"English\"}, {\"iso...</td>\n",
              "      <td>Released</td>\n",
              "      <td>Enter the World of Pandora.</td>\n",
              "      <td>Avatar</td>\n",
              "      <td>7.2</td>\n",
              "      <td>11800</td>\n",
              "      <td>19995</td>\n",
              "      <td>[{\"cast_id\": 242, \"character\": \"Jake Sully\", \"...</td>\n",
              "      <td>[{\"credit_id\": \"52fe48009251416c750aca23\", \"de...</td>\n",
              "    </tr>\n",
              "  </tbody>\n",
              "</table>\n",
              "</div>\n",
              "      <button class=\"colab-df-convert\" onclick=\"convertToInteractive('df-21c00067-d52b-4809-8ea2-27111b2cb70a')\"\n",
              "              title=\"Convert this dataframe to an interactive table.\"\n",
              "              style=\"display:none;\">\n",
              "        \n",
              "  <svg xmlns=\"http://www.w3.org/2000/svg\" height=\"24px\"viewBox=\"0 0 24 24\"\n",
              "       width=\"24px\">\n",
              "    <path d=\"M0 0h24v24H0V0z\" fill=\"none\"/>\n",
              "    <path d=\"M18.56 5.44l.94 2.06.94-2.06 2.06-.94-2.06-.94-.94-2.06-.94 2.06-2.06.94zm-11 1L8.5 8.5l.94-2.06 2.06-.94-2.06-.94L8.5 2.5l-.94 2.06-2.06.94zm10 10l.94 2.06.94-2.06 2.06-.94-2.06-.94-.94-2.06-.94 2.06-2.06.94z\"/><path d=\"M17.41 7.96l-1.37-1.37c-.4-.4-.92-.59-1.43-.59-.52 0-1.04.2-1.43.59L10.3 9.45l-7.72 7.72c-.78.78-.78 2.05 0 2.83L4 21.41c.39.39.9.59 1.41.59.51 0 1.02-.2 1.41-.59l7.78-7.78 2.81-2.81c.8-.78.8-2.07 0-2.86zM5.41 20L4 18.59l7.72-7.72 1.47 1.35L5.41 20z\"/>\n",
              "  </svg>\n",
              "      </button>\n",
              "      \n",
              "  <style>\n",
              "    .colab-df-container {\n",
              "      display:flex;\n",
              "      flex-wrap:wrap;\n",
              "      gap: 12px;\n",
              "    }\n",
              "\n",
              "    .colab-df-convert {\n",
              "      background-color: #E8F0FE;\n",
              "      border: none;\n",
              "      border-radius: 50%;\n",
              "      cursor: pointer;\n",
              "      display: none;\n",
              "      fill: #1967D2;\n",
              "      height: 32px;\n",
              "      padding: 0 0 0 0;\n",
              "      width: 32px;\n",
              "    }\n",
              "\n",
              "    .colab-df-convert:hover {\n",
              "      background-color: #E2EBFA;\n",
              "      box-shadow: 0px 1px 2px rgba(60, 64, 67, 0.3), 0px 1px 3px 1px rgba(60, 64, 67, 0.15);\n",
              "      fill: #174EA6;\n",
              "    }\n",
              "\n",
              "    [theme=dark] .colab-df-convert {\n",
              "      background-color: #3B4455;\n",
              "      fill: #D2E3FC;\n",
              "    }\n",
              "\n",
              "    [theme=dark] .colab-df-convert:hover {\n",
              "      background-color: #434B5C;\n",
              "      box-shadow: 0px 1px 3px 1px rgba(0, 0, 0, 0.15);\n",
              "      filter: drop-shadow(0px 1px 2px rgba(0, 0, 0, 0.3));\n",
              "      fill: #FFFFFF;\n",
              "    }\n",
              "  </style>\n",
              "\n",
              "      <script>\n",
              "        const buttonEl =\n",
              "          document.querySelector('#df-21c00067-d52b-4809-8ea2-27111b2cb70a button.colab-df-convert');\n",
              "        buttonEl.style.display =\n",
              "          google.colab.kernel.accessAllowed ? 'block' : 'none';\n",
              "\n",
              "        async function convertToInteractive(key) {\n",
              "          const element = document.querySelector('#df-21c00067-d52b-4809-8ea2-27111b2cb70a');\n",
              "          const dataTable =\n",
              "            await google.colab.kernel.invokeFunction('convertToInteractive',\n",
              "                                                     [key], {});\n",
              "          if (!dataTable) return;\n",
              "\n",
              "          const docLinkHtml = 'Like what you see? Visit the ' +\n",
              "            '<a target=\"_blank\" href=https://colab.research.google.com/notebooks/data_table.ipynb>data table notebook</a>'\n",
              "            + ' to learn more about interactive tables.';\n",
              "          element.innerHTML = '';\n",
              "          dataTable['output_type'] = 'display_data';\n",
              "          await google.colab.output.renderOutput(dataTable, element);\n",
              "          const docLink = document.createElement('div');\n",
              "          docLink.innerHTML = docLinkHtml;\n",
              "          element.appendChild(docLink);\n",
              "        }\n",
              "      </script>\n",
              "    </div>\n",
              "  </div>\n",
              "  "
            ],
            "text/plain": [
              "      budget  ...                                               crew\n",
              "0  237000000  ...  [{\"credit_id\": \"52fe48009251416c750aca23\", \"de...\n",
              "\n",
              "[1 rows x 23 columns]"
            ]
          },
          "metadata": {},
          "execution_count": 51
        }
      ]
    },
    {
      "cell_type": "code",
      "source": [
        "#select the columns which we want \n",
        "    #genres \n",
        "    #id\n",
        "    #tittle\n",
        "    #overview\n",
        "    #cast\n",
        "    #crew\n",
        "\n",
        "movies = movies [['movie_id','title','overview','genres','keywords','cast','crew']]"
      ],
      "metadata": {
        "id": "trMcRkgJKf_P"
      },
      "execution_count": 52,
      "outputs": []
    },
    {
      "cell_type": "code",
      "source": [
        "movies.isnull().sum()   #check the total value of null values "
      ],
      "metadata": {
        "colab": {
          "base_uri": "https://localhost:8080/"
        },
        "id": "fGYSsY9_Kpqf",
        "outputId": "dc026461-84ab-4bdc-c7df-58b8134dc79f"
      },
      "execution_count": 53,
      "outputs": [
        {
          "output_type": "execute_result",
          "data": {
            "text/plain": [
              "movie_id    0\n",
              "title       0\n",
              "overview    3\n",
              "genres      0\n",
              "keywords    0\n",
              "cast        0\n",
              "crew        0\n",
              "dtype: int64"
            ]
          },
          "metadata": {},
          "execution_count": 53
        }
      ]
    },
    {
      "cell_type": "code",
      "source": [
        "movies.dropna(inplace = True)   #remove the null values"
      ],
      "metadata": {
        "id": "aznKEGtqKvEY"
      },
      "execution_count": 54,
      "outputs": []
    },
    {
      "cell_type": "code",
      "source": [
        "movies.duplicated().sum()   #check the total value of dublicated values  "
      ],
      "metadata": {
        "colab": {
          "base_uri": "https://localhost:8080/"
        },
        "id": "Zv_N8vQ3K0GE",
        "outputId": "10a4434b-a5a6-443e-88a7-cc42365f67d1"
      },
      "execution_count": 55,
      "outputs": [
        {
          "output_type": "execute_result",
          "data": {
            "text/plain": [
              "0"
            ]
          },
          "metadata": {},
          "execution_count": 55
        }
      ]
    },
    {
      "cell_type": "code",
      "source": [
        "movies.iloc[0].genres   #get the details of 'genre' column in O index"
      ],
      "metadata": {
        "colab": {
          "base_uri": "https://localhost:8080/",
          "height": 35
        },
        "id": "a0JOJMqAK4lX",
        "outputId": "52400ad0-06eb-41b4-cf3f-6f87dee3adf5"
      },
      "execution_count": 56,
      "outputs": [
        {
          "output_type": "execute_result",
          "data": {
            "application/vnd.google.colaboratory.intrinsic+json": {
              "type": "string"
            },
            "text/plain": [
              "'[{\"id\": 28, \"name\": \"Action\"}, {\"id\": 12, \"name\": \"Adventure\"}, {\"id\": 14, \"name\": \"Fantasy\"}, {\"id\": 878, \"name\": \"Science Fiction\"}]'"
            ]
          },
          "metadata": {},
          "execution_count": 56
        }
      ]
    },
    {
      "cell_type": "code",
      "source": [
        "import ast \n",
        "ast.literal_eval('[{\"id\": 28, \"name\": \"Action\"}, {\"id\": 12, \"name\": \"Adventure\"}, {\"id\": 14, \"name\": \"Fantasy\"}, {\"id\": 878, \"name\": \"Science Fiction\"}]')"
      ],
      "metadata": {
        "colab": {
          "base_uri": "https://localhost:8080/"
        },
        "id": "XnECvKaVLctY",
        "outputId": "6c920e4e-528f-4173-a5b7-7c0c740105f5"
      },
      "execution_count": 57,
      "outputs": [
        {
          "output_type": "execute_result",
          "data": {
            "text/plain": [
              "[{'id': 28, 'name': 'Action'},\n",
              " {'id': 12, 'name': 'Adventure'},\n",
              " {'id': 14, 'name': 'Fantasy'},\n",
              " {'id': 878, 'name': 'Science Fiction'}]"
            ]
          },
          "metadata": {},
          "execution_count": 57
        }
      ]
    },
    {
      "cell_type": "code",
      "source": [
        "def convert(obj):    #define the function for to get list mode\n",
        "    L = []\n",
        "    for i in ast.literal_eval(obj):\n",
        "        L.append(i['name'])\n",
        "    return L "
      ],
      "metadata": {
        "id": "pzJQ_PXCLrgo"
      },
      "execution_count": 58,
      "outputs": []
    },
    {
      "cell_type": "code",
      "source": [
        "movies['genres'].apply(convert)   #apply above function to the 'genres' column"
      ],
      "metadata": {
        "colab": {
          "base_uri": "https://localhost:8080/"
        },
        "id": "6RgRXdCSLvWw",
        "outputId": "371ea44d-aaf0-476c-b7b8-e111d48c2646"
      },
      "execution_count": 59,
      "outputs": [
        {
          "output_type": "execute_result",
          "data": {
            "text/plain": [
              "0       [Action, Adventure, Fantasy, Science Fiction]\n",
              "1                        [Adventure, Fantasy, Action]\n",
              "2                          [Action, Adventure, Crime]\n",
              "3                    [Action, Crime, Drama, Thriller]\n",
              "4                [Action, Adventure, Science Fiction]\n",
              "                            ...                      \n",
              "4804                        [Action, Crime, Thriller]\n",
              "4805                                [Comedy, Romance]\n",
              "4806               [Comedy, Drama, Romance, TV Movie]\n",
              "4807                                               []\n",
              "4808                                    [Documentary]\n",
              "Name: genres, Length: 4806, dtype: object"
            ]
          },
          "metadata": {},
          "execution_count": 59
        }
      ]
    },
    {
      "cell_type": "code",
      "source": [
        "movies['genres'] = movies['genres'].apply(convert)"
      ],
      "metadata": {
        "id": "jJTRw0HcL8Fn"
      },
      "execution_count": 60,
      "outputs": []
    },
    {
      "cell_type": "code",
      "source": [
        "movies['keywords'].apply(convert)   #also apply above function to the 'keyword' column"
      ],
      "metadata": {
        "colab": {
          "base_uri": "https://localhost:8080/"
        },
        "id": "wvVpAqz9MAog",
        "outputId": "6e7814ba-1322-4247-bf59-698d3b29d54f"
      },
      "execution_count": 61,
      "outputs": [
        {
          "output_type": "execute_result",
          "data": {
            "text/plain": [
              "0       [culture clash, future, space war, space colon...\n",
              "1       [ocean, drug abuse, exotic island, east india ...\n",
              "2       [spy, based on novel, secret agent, sequel, mi...\n",
              "3       [dc comics, crime fighter, terrorist, secret i...\n",
              "4       [based on novel, mars, medallion, space travel...\n",
              "                              ...                        \n",
              "4804    [united states–mexico barrier, legs, arms, pap...\n",
              "4805                                                   []\n",
              "4806    [date, love at first sight, narration, investi...\n",
              "4807                                                   []\n",
              "4808            [obsession, camcorder, crush, dream girl]\n",
              "Name: keywords, Length: 4806, dtype: object"
            ]
          },
          "metadata": {},
          "execution_count": 61
        }
      ]
    },
    {
      "cell_type": "code",
      "source": [
        "movies['keywords'] = movies['keywords'].apply(convert)"
      ],
      "metadata": {
        "id": "iYo4QJruMIlb"
      },
      "execution_count": 62,
      "outputs": []
    },
    {
      "cell_type": "code",
      "source": [
        "def convert3(obj):      #define a function to get 3 names from the list\n",
        "    L = []\n",
        "    counter = 0 \n",
        "    for i in ast.literal_eval(obj):\n",
        "        if counter != 3 :\n",
        "            L.append(i['name'])\n",
        "            counter += 1\n",
        "        else:\n",
        "            break\n",
        "    return L"
      ],
      "metadata": {
        "id": "NhpgJO0kMVDo"
      },
      "execution_count": 63,
      "outputs": []
    },
    {
      "cell_type": "code",
      "source": [
        "movies['cast'].apply(convert3)   #apply above function to the 'cast' column"
      ],
      "metadata": {
        "colab": {
          "base_uri": "https://localhost:8080/"
        },
        "id": "jbsrnlU_MaJ_",
        "outputId": "0be87e6d-b649-4f86-cff9-528a4866d2e3"
      },
      "execution_count": 64,
      "outputs": [
        {
          "output_type": "execute_result",
          "data": {
            "text/plain": [
              "0        [Sam Worthington, Zoe Saldana, Sigourney Weaver]\n",
              "1           [Johnny Depp, Orlando Bloom, Keira Knightley]\n",
              "2            [Daniel Craig, Christoph Waltz, Léa Seydoux]\n",
              "3            [Christian Bale, Michael Caine, Gary Oldman]\n",
              "4          [Taylor Kitsch, Lynn Collins, Samantha Morton]\n",
              "                              ...                        \n",
              "4804    [Carlos Gallardo, Jaime de Hoyos, Peter Marqua...\n",
              "4805         [Edward Burns, Kerry Bishé, Marsha Dietlein]\n",
              "4806           [Eric Mabius, Kristin Booth, Crystal Lowe]\n",
              "4807            [Daniel Henney, Eliza Coupe, Bill Paxton]\n",
              "4808    [Drew Barrymore, Brian Herzlinger, Corey Feldman]\n",
              "Name: cast, Length: 4806, dtype: object"
            ]
          },
          "metadata": {},
          "execution_count": 64
        }
      ]
    },
    {
      "cell_type": "code",
      "source": [
        "movies['cast'] = movies['cast'].apply(convert3)  #again assign the new values to the column"
      ],
      "metadata": {
        "id": "6xqKFM0UMipn"
      },
      "execution_count": 65,
      "outputs": []
    },
    {
      "cell_type": "code",
      "source": [
        "movies['crew'][0] #check the 'crew' column 0 index"
      ],
      "metadata": {
        "colab": {
          "base_uri": "https://localhost:8080/",
          "height": 140
        },
        "id": "-RIcp9DeMra6",
        "outputId": "d5c2898c-6bcf-4e90-c842-7722c8fe1165"
      },
      "execution_count": 66,
      "outputs": [
        {
          "output_type": "execute_result",
          "data": {
            "application/vnd.google.colaboratory.intrinsic+json": {
              "type": "string"
            },
            "text/plain": [
              "'[{\"credit_id\": \"52fe48009251416c750aca23\", \"department\": \"Editing\", \"gender\": 0, \"id\": 1721, \"job\": \"Editor\", \"name\": \"Stephen E. Rivkin\"}, {\"credit_id\": \"539c47ecc3a36810e3001f87\", \"department\": \"Art\", \"gender\": 2, \"id\": 496, \"job\": \"Production Design\", \"name\": \"Rick Carter\"}, {\"credit_id\": \"54491c89c3a3680fb4001cf7\", \"department\": \"Sound\", \"gender\": 0, \"id\": 900, \"job\": \"Sound Designer\", \"name\": \"Christopher Boyes\"}, {\"credit_id\": \"54491cb70e0a267480001bd0\", \"department\": \"Sound\", \"gender\": 0, \"id\": 900, \"job\": \"Supervising Sound Editor\", \"name\": \"Christopher Boyes\"}, {\"credit_id\": \"539c4a4cc3a36810c9002101\", \"department\": \"Production\", \"gender\": 1, \"id\": 1262, \"job\": \"Casting\", \"name\": \"Mali Finn\"}, {\"credit_id\": \"5544ee3b925141499f0008fc\", \"department\": \"Sound\", \"gender\": 2, \"id\": 1729, \"job\": \"Original Music Composer\", \"name\": \"James Horner\"}, {\"credit_id\": \"52fe48009251416c750ac9c3\", \"department\": \"Directing\", \"gender\": 2, \"id\": 2710, \"job\": \"Director\", \"name\": \"James Cameron\"}, {\"credit_id\": \"52fe48009251416c750ac9d9\", \"department\": \"Writing\", \"gender\": 2, \"id\": 2710, \"job\": \"Writer\", \"name\": \"James Cameron\"}, {\"credit_id\": \"52fe48009251416c750aca17\", \"department\": \"Editing\", \"gender\": 2, \"id\": 2710, \"job\": \"Editor\", \"name\": \"James Cameron\"}, {\"credit_id\": \"52fe48009251416c750aca29\", \"department\": \"Production\", \"gender\": 2, \"id\": 2710, \"job\": \"Producer\", \"name\": \"James Cameron\"}, {\"credit_id\": \"52fe48009251416c750aca3f\", \"department\": \"Writing\", \"gender\": 2, \"id\": 2710, \"job\": \"Screenplay\", \"name\": \"James Cameron\"}, {\"credit_id\": \"539c4987c3a36810ba0021a4\", \"department\": \"Art\", \"gender\": 2, \"id\": 7236, \"job\": \"Art Direction\", \"name\": \"Andrew Menzies\"}, {\"credit_id\": \"549598c3c3a3686ae9004383\", \"department\": \"Visual Effects\", \"gender\": 0, \"id\": 6690, \"job\": \"Visual Effects Producer\", \"name\": \"Jill Brooks\"}, {\"credit_id\": \"52fe48009251416c750aca4b\", \"department\": \"Production\", \"gender\": 1, \"id\": 6347, \"job\": \"Casting\", \"name\": \"Margery Simkin\"}, {\"credit_id\": \"570b6f419251417da70032fe\", \"department\": \"Art\", \"gender\": 2, \"id\": 6878, \"job\": \"Supervising Art Director\", \"name\": \"Kevin Ishioka\"}, {\"credit_id\": \"5495a0fac3a3686ae9004468\", \"department\": \"Sound\", \"gender\": 0, \"id\": 6883, \"job\": \"Music Editor\", \"name\": \"Dick Bernstein\"}, {\"credit_id\": \"54959706c3a3686af3003e81\", \"department\": \"Sound\", \"gender\": 0, \"id\": 8159, \"job\": \"Sound Effects Editor\", \"name\": \"Shannon Mills\"}, {\"credit_id\": \"54491d58c3a3680fb1001ccb\", \"department\": \"Sound\", \"gender\": 0, \"id\": 8160, \"job\": \"Foley\", \"name\": \"Dennie Thorpe\"}, {\"credit_id\": \"54491d6cc3a3680fa5001b2c\", \"department\": \"Sound\", \"gender\": 0, \"id\": 8163, \"job\": \"Foley\", \"name\": \"Jana Vance\"}, {\"credit_id\": \"52fe48009251416c750aca57\", \"department\": \"Costume & Make-Up\", \"gender\": 1, \"id\": 8527, \"job\": \"Costume Design\", \"name\": \"Deborah Lynn Scott\"}, {\"credit_id\": \"52fe48009251416c750aca2f\", \"department\": \"Production\", \"gender\": 2, \"id\": 8529, \"job\": \"Producer\", \"name\": \"Jon Landau\"}, {\"credit_id\": \"539c4937c3a36810ba002194\", \"department\": \"Art\", \"gender\": 0, \"id\": 9618, \"job\": \"Art Direction\", \"name\": \"Sean Haworth\"}, {\"credit_id\": \"539c49b6c3a36810c10020e6\", \"department\": \"Art\", \"gender\": 1, \"id\": 12653, \"job\": \"Set Decoration\", \"name\": \"Kim Sinclair\"}, {\"credit_id\": \"570b6f2f9251413a0e00020d\", \"department\": \"Art\", \"gender\": 1, \"id\": 12653, \"job\": \"Supervising Art Director\", \"name\": \"Kim Sinclair\"}, {\"credit_id\": \"54491a6c0e0a26748c001b19\", \"department\": \"Art\", \"gender\": 2, \"id\": 14350, \"job\": \"Set Designer\", \"name\": \"Richard F. Mays\"}, {\"credit_id\": \"56928cf4c3a3684cff0025c4\", \"department\": \"Production\", \"gender\": 1, \"id\": 20294, \"job\": \"Executive Producer\", \"name\": \"Laeta Kalogridis\"}, {\"credit_id\": \"52fe48009251416c750aca51\", \"department\": \"Costume & Make-Up\", \"gender\": 0, \"id\": 17675, \"job\": \"Costume Design\", \"name\": \"Mayes C. Rubeo\"}, {\"credit_id\": \"52fe48009251416c750aca11\", \"department\": \"Camera\", \"gender\": 2, \"id\": 18265, \"job\": \"Director of Photography\", \"name\": \"Mauro Fiore\"}, {\"credit_id\": \"5449194d0e0a26748f001b39\", \"department\": \"Art\", \"gender\": 0, \"id\": 42281, \"job\": \"Set Designer\", \"name\": \"Scott Herbertson\"}, {\"credit_id\": \"52fe48009251416c750aca05\", \"department\": \"Crew\", \"gender\": 0, \"id\": 42288, \"job\": \"Stunts\", \"name\": \"Woody Schultz\"}, {\"credit_id\": \"5592aefb92514152de0010f5\", \"department\": \"Costume & Make-Up\", \"gender\": 0, \"id\": 29067, \"job\": \"Makeup Artist\", \"name\": \"Linda DeVetta\"}, {\"credit_id\": \"5592afa492514152de00112c\", \"department\": \"Costume & Make-Up\", \"gender\": 0, \"id\": 29067, \"job\": \"Hairstylist\", \"name\": \"Linda DeVetta\"}, {\"credit_id\": \"54959ed592514130fc002e5d\", \"department\": \"Camera\", \"gender\": 2, \"id\": 33302, \"job\": \"Camera Operator\", \"name\": \"Richard Bluck\"}, {\"credit_id\": \"539c4891c3a36810ba002147\", \"department\": \"Art\", \"gender\": 2, \"id\": 33303, \"job\": \"Art Direction\", \"name\": \"Simon Bright\"}, {\"credit_id\": \"54959c069251417a81001f3a\", \"department\": \"Visual Effects\", \"gender\": 0, \"id\": 113145, \"job\": \"Visual Effects Supervisor\", \"name\": \"Richard Martin\"}, {\"credit_id\": \"54959a0dc3a3680ff5002c8d\", \"department\": \"Crew\", \"gender\": 2, \"id\": 58188, \"job\": \"Visual Effects Editor\", \"name\": \"Steve R. Moore\"}, {\"credit_id\": \"52fe48009251416c750aca1d\", \"department\": \"Editing\", \"gender\": 2, \"id\": 58871, \"job\": \"Editor\", \"name\": \"John Refoua\"}, {\"credit_id\": \"54491a4dc3a3680fc30018ca\", \"department\": \"Art\", \"gender\": 0, \"id\": 92359, \"job\": \"Set Designer\", \"name\": \"Karl J. Martin\"}, {\"credit_id\": \"52fe48009251416c750aca35\", \"department\": \"Camera\", \"gender\": 1, \"id\": 72201, \"job\": \"Director of Photography\", \"name\": \"Chiling Lin\"}, {\"credit_id\": \"52fe48009251416c750ac9ff\", \"department\": \"Crew\", \"gender\": 0, \"id\": 89714, \"job\": \"Stunts\", \"name\": \"Ilram Choi\"}, {\"credit_id\": \"54959c529251416e2b004394\", \"department\": \"Visual Effects\", \"gender\": 2, \"id\": 93214, \"job\": \"Visual Effects Supervisor\", \"name\": \"Steven Quale\"}, {\"credit_id\": \"54491edf0e0a267489001c37\", \"department\": \"Crew\", \"gender\": 1, \"id\": 122607, \"job\": \"Dialect Coach\", \"name\": \"Carla Meyer\"}, {\"credit_id\": \"539c485bc3a368653d001a3a\", \"department\": \"Art\", \"gender\": 2, \"id\": 132585, \"job\": \"Art Direction\", \"name\": \"Nick Bassett\"}, {\"credit_id\": \"539c4903c3a368653d001a74\", \"department\": \"Art\", \"gender\": 0, \"id\": 132596, \"job\": \"Art Direction\", \"name\": \"Jill Cormack\"}, {\"credit_id\": \"539c4967c3a368653d001a94\", \"department\": \"Art\", \"gender\": 0, \"id\": 132604, \"job\": \"Art Direction\", \"name\": \"Andy McLaren\"}, {\"credit_id\": \"52fe48009251416c750aca45\", \"department\": \"Crew\", \"gender\": 0, \"id\": 236696, \"job\": \"Motion Capture Artist\", \"name\": \"Terry Notary\"}, {\"credit_id\": \"54959e02c3a3680fc60027d2\", \"department\": \"Crew\", \"gender\": 2, \"id\": 956198, \"job\": \"Stunt Coordinator\", \"name\": \"Garrett Warren\"}, {\"credit_id\": \"54959ca3c3a3686ae300438c\", \"department\": \"Visual Effects\", \"gender\": 2, \"id\": 957874, \"job\": \"Visual Effects Supervisor\", \"name\": \"Jonathan Rothbart\"}, {\"credit_id\": \"570b6f519251412c74001b2f\", \"department\": \"Art\", \"gender\": 0, \"id\": 957889, \"job\": \"Supervising Art Director\", \"name\": \"Stefan Dechant\"}, {\"credit_id\": \"570b6f62c3a3680b77007460\", \"department\": \"Art\", \"gender\": 2, \"id\": 959555, \"job\": \"Supervising Art Director\", \"name\": \"Todd Cherniawsky\"}, {\"credit_id\": \"539c4a3ac3a36810da0021cc\", \"department\": \"Production\", \"gender\": 0, \"id\": 1016177, \"job\": \"Casting\", \"name\": \"Miranda Rivers\"}, {\"credit_id\": \"539c482cc3a36810c1002062\", \"department\": \"Art\", \"gender\": 0, \"id\": 1032536, \"job\": \"Production Design\", \"name\": \"Robert Stromberg\"}, {\"credit_id\": \"539c4b65c3a36810c9002125\", \"department\": \"Costume & Make-Up\", \"gender\": 2, \"id\": 1071680, \"job\": \"Costume Design\", \"name\": \"John Harding\"}, {\"credit_id\": \"54959e6692514130fc002e4e\", \"department\": \"Camera\", \"gender\": 0, \"id\": 1177364, \"job\": \"Steadicam Operator\", \"name\": \"Roberto De Angelis\"}, {\"credit_id\": \"539c49f1c3a368653d001aac\", \"department\": \"Costume & Make-Up\", \"gender\": 2, \"id\": 1202850, \"job\": \"Makeup Department Head\", \"name\": \"Mike Smithson\"}, {\"credit_id\": \"5495999ec3a3686ae100460c\", \"department\": \"Visual Effects\", \"gender\": 0, \"id\": 1204668, \"job\": \"Visual Effects Producer\", \"name\": \"Alain Lalanne\"}, {\"credit_id\": \"54959cdfc3a3681153002729\", \"department\": \"Visual Effects\", \"gender\": 0, \"id\": 1206410, \"job\": \"Visual Effects Supervisor\", \"name\": \"Lucas Salton\"}, {\"credit_id\": \"549596239251417a81001eae\", \"department\": \"Crew\", \"gender\": 0, \"id\": 1234266, \"job\": \"Post Production Supervisor\", \"name\": \"Janace Tashjian\"}, {\"credit_id\": \"54959c859251416e1e003efe\", \"department\": \"Visual Effects\", \"gender\": 0, \"id\": 1271932, \"job\": \"Visual Effects Supervisor\", \"name\": \"Stephen Rosenbaum\"}, {\"credit_id\": \"5592af28c3a368775a00105f\", \"department\": \"Costume & Make-Up\", \"gender\": 0, \"id\": 1310064, \"job\": \"Makeup Artist\", \"name\": \"Frankie Karena\"}, {\"credit_id\": \"539c4adfc3a36810e300203b\", \"department\": \"Costume & Make-Up\", \"gender\": 1, \"id\": 1319844, \"job\": \"Costume Supervisor\", \"name\": \"Lisa Lovaas\"}, {\"credit_id\": \"54959b579251416e2b004371\", \"department\": \"Visual Effects\", \"gender\": 0, \"id\": 1327028, \"job\": \"Visual Effects Supervisor\", \"name\": \"Jonathan Fawkner\"}, {\"credit_id\": \"539c48a7c3a36810b5001fa7\", \"department\": \"Art\", \"gender\": 0, \"id\": 1330561, \"job\": \"Art Direction\", \"name\": \"Robert Bavin\"}, {\"credit_id\": \"539c4a71c3a36810da0021e0\", \"department\": \"Costume & Make-Up\", \"gender\": 0, \"id\": 1330567, \"job\": \"Costume Supervisor\", \"name\": \"Anthony Almaraz\"}, {\"credit_id\": \"539c4a8ac3a36810ba0021e4\", \"department\": \"Costume & Make-Up\", \"gender\": 0, \"id\": 1330570, \"job\": \"Costume Supervisor\", \"name\": \"Carolyn M. Fenton\"}, {\"credit_id\": \"539c4ab6c3a36810da0021f0\", \"department\": \"Costume & Make-Up\", \"gender\": 0, \"id\": 1330574, \"job\": \"Costume Supervisor\", \"name\": \"Beth Koenigsberg\"}, {\"credit_id\": \"54491ab70e0a267480001ba2\", \"department\": \"Art\", \"gender\": 0, \"id\": 1336191, \"job\": \"Set Designer\", \"name\": \"Sam Page\"}, {\"credit_id\": \"544919d9c3a3680fc30018bd\", \"department\": \"Art\", \"gender\": 0, \"id\": 1339441, \"job\": \"Set Designer\", \"name\": \"Tex Kadonaga\"}, {\"credit_id\": \"54491cf50e0a267483001b0c\", \"department\": \"Editing\", \"gender\": 0, \"id\": 1352422, \"job\": \"Dialogue Editor\", \"name\": \"Kim Foscato\"}, {\"credit_id\": \"544919f40e0a26748c001b09\", \"department\": \"Art\", \"gender\": 0, \"id\": 1352962, \"job\": \"Set Designer\", \"name\": \"Tammy S. Lee\"}, {\"credit_id\": \"5495a115c3a3680ff5002d71\", \"department\": \"Crew\", \"gender\": 0, \"id\": 1357070, \"job\": \"Transportation Coordinator\", \"name\": \"Denny Caira\"}, {\"credit_id\": \"5495a12f92514130fc002e94\", \"department\": \"Crew\", \"gender\": 0, \"id\": 1357071, \"job\": \"Transportation Coordinator\", \"name\": \"James Waitkus\"}, {\"credit_id\": \"5495976fc3a36811530026b0\", \"department\": \"Sound\", \"gender\": 0, \"id\": 1360103, \"job\": \"Supervising Sound Editor\", \"name\": \"Addison Teague\"}, {\"credit_id\": \"54491837c3a3680fb1001c5a\", \"department\": \"Art\", \"gender\": 2, \"id\": 1376887, \"job\": \"Set Designer\", \"name\": \"C. Scott Baker\"}, {\"credit_id\": \"54491878c3a3680fb4001c9d\", \"department\": \"Art\", \"gender\": 0, \"id\": 1376888, \"job\": \"Set Designer\", \"name\": \"Luke Caska\"}, {\"credit_id\": \"544918dac3a3680fa5001ae0\", \"department\": \"Art\", \"gender\": 0, \"id\": 1376889, \"job\": \"Set Designer\", \"name\": \"David Chow\"}, {\"credit_id\": \"544919110e0a267486001b68\", \"department\": \"Art\", \"gender\": 0, \"id\": 1376890, \"job\": \"Set Designer\", \"name\": \"Jonathan Dyer\"}, {\"credit_id\": \"54491967c3a3680faa001b5e\", \"department\": \"Art\", \"gender\": 0, \"id\": 1376891, \"job\": \"Set Designer\", \"name\": \"Joseph Hiura\"}, {\"credit_id\": \"54491997c3a3680fb1001c8a\", \"department\": \"Art\", \"gender\": 0, \"id\": 1376892, \"job\": \"Art Department Coordinator\", \"name\": \"Rebecca Jellie\"}, {\"credit_id\": \"544919ba0e0a26748f001b42\", \"department\": \"Art\", \"gender\": 0, \"id\": 1376893, \"job\": \"Set Designer\", \"name\": \"Robert Andrew Johnson\"}, {\"credit_id\": \"54491b1dc3a3680faa001b8c\", \"department\": \"Art\", \"gender\": 0, \"id\": 1376895, \"job\": \"Assistant Art Director\", \"name\": \"Mike Stassi\"}, {\"credit_id\": \"54491b79c3a3680fbb001826\", \"department\": \"Art\", \"gender\": 0, \"id\": 1376897, \"job\": \"Construction Coordinator\", \"name\": \"John Villarino\"}, {\"credit_id\": \"54491baec3a3680fb4001ce6\", \"department\": \"Art\", \"gender\": 2, \"id\": 1376898, \"job\": \"Assistant Art Director\", \"name\": \"Jeffrey Wisniewski\"}, {\"credit_id\": \"54491d2fc3a3680fb4001d07\", \"department\": \"Editing\", \"gender\": 0, \"id\": 1376899, \"job\": \"Dialogue Editor\", \"name\": \"Cheryl Nardi\"}, {\"credit_id\": \"54491d86c3a3680fa5001b2f\", \"department\": \"Editing\", \"gender\": 0, \"id\": 1376901, \"job\": \"Dialogue Editor\", \"name\": \"Marshall Winn\"}, {\"credit_id\": \"54491d9dc3a3680faa001bb0\", \"department\": \"Sound\", \"gender\": 0, \"id\": 1376902, \"job\": \"Supervising Sound Editor\", \"name\": \"Gwendolyn Yates Whittle\"}, {\"credit_id\": \"54491dc10e0a267486001bce\", \"department\": \"Sound\", \"gender\": 0, \"id\": 1376903, \"job\": \"Sound Re-Recording Mixer\", \"name\": \"William Stein\"}, {\"credit_id\": \"54491f500e0a26747c001c07\", \"department\": \"Crew\", \"gender\": 0, \"id\": 1376909, \"job\": \"Choreographer\", \"name\": \"Lula Washington\"}, {\"credit_id\": \"549599239251412c4e002a2e\", \"department\": \"Visual Effects\", \"gender\": 0, \"id\": 1391692, \"job\": \"Visual Effects Producer\", \"name\": \"Chris Del Conte\"}, {\"credit_id\": \"54959d54c3a36831b8001d9a\", \"department\": \"Visual Effects\", \"gender\": 2, \"id\": 1391695, \"job\": \"Visual Effects Supervisor\", \"name\": \"R. Christopher White\"}, {\"credit_id\": \"54959bdf9251412c4e002a66\", \"department\": \"Visual Effects\", \"gender\": 0, \"id\": 1394070, \"job\": \"Visual Effects Supervisor\", \"name\": \"Dan Lemmon\"}, {\"credit_id\": \"5495971d92514132ed002922\", \"department\": \"Sound\", \"gender\": 0, \"id\": 1394129, \"job\": \"Sound Effects Editor\", \"name\": \"Tim Nielsen\"}, {\"credit_id\": \"5592b25792514152cc0011aa\", \"department\": \"Crew\", \"gender\": 0, \"id\": 1394286, \"job\": \"CG Supervisor\", \"name\": \"Michael Mulholland\"}, {\"credit_id\": \"54959a329251416e2b004355\", \"department\": \"Crew\", \"gender\": 0, \"id\": 1394750, \"job\": \"Visual Effects Editor\", \"name\": \"Thomas Nittmann\"}, {\"credit_id\": \"54959d6dc3a3686ae9004401\", \"department\": \"Visual Effects\", \"gender\": 0, \"id\": 1394755, \"job\": \"Visual Effects Supervisor\", \"name\": \"Edson Williams\"}, {\"credit_id\": \"5495a08fc3a3686ae300441c\", \"department\": \"Editing\", \"gender\": 0, \"id\": 1394953, \"job\": \"Digital Intermediate\", \"name\": \"Christine Carr\"}, {\"credit_id\": \"55402d659251413d6d000249\", \"department\": \"Visual Effects\", \"gender\": 0, \"id\": 1395269, \"job\": \"Visual Effects Supervisor\", \"name\": \"John Bruno\"}, {\"credit_id\": \"54959e7b9251416e1e003f3e\", \"department\": \"Camera\", \"gender\": 0, \"id\": 1398970, \"job\": \"Steadicam Operator\", \"name\": \"David Emmerichs\"}, {\"credit_id\": \"54959734c3a3686ae10045e0\", \"department\": \"Sound\", \"gender\": 0, \"id\": 1400906, \"job\": \"Sound Effects Editor\", \"name\": \"Christopher Scarabosio\"}, {\"credit_id\": \"549595dd92514130fc002d79\", \"department\": \"Production\", \"gender\": 0, \"id\": 1401784, \"job\": \"Production Supervisor\", \"name\": \"Jennifer Teves\"}, {\"credit_id\": \"549596009251413af70028cc\", \"department\": \"Production\", \"gender\": 0, \"id\": 1401785, \"job\": \"Production Manager\", \"name\": \"Brigitte Yorke\"}, {\"credit_id\": \"549596e892514130fc002d99\", \"department\": \"Sound\", \"gender\": 0, \"id\": 1401786, \"job\": \"Sound Effects Editor\", \"name\": \"Ken Fischer\"}, {\"credit_id\": \"549598229251412c4e002a1c\", \"department\": \"Crew\", \"gender\": 0, \"id\": 1401787, \"job\": \"Special Effects Coordinator\", \"name\": \"Iain Hutton\"}, {\"credit_id\": \"549598349251416e2b00432b\", \"department\": \"Crew\", \"gender\": 0, \"id\": 1401788, \"job\": \"Special Effects Coordinator\", \"name\": \"Steve Ingram\"}, {\"credit_id\": \"54959905c3a3686ae3004324\", \"department\": \"Visual Effects\", \"gender\": 0, \"id\": 1401789, \"job\": \"Visual Effects Producer\", \"name\": \"Joyce Cox\"}, {\"credit_id\": \"5495994b92514132ed002951\", \"department\": \"Visual Effects\", \"gender\": 0, \"id\": 1401790, \"job\": \"Visual Effects Producer\", \"name\": \"Jenny Foster\"}, {\"credit_id\": \"549599cbc3a3686ae1004613\", \"department\": \"Crew\", \"gender\": 0, \"id\": 1401791, \"job\": \"Visual Effects Editor\", \"name\": \"Christopher Marino\"}, {\"credit_id\": \"549599f2c3a3686ae100461e\", \"department\": \"Crew\", \"gender\": 0, \"id\": 1401792, \"job\": \"Visual Effects Editor\", \"name\": \"Jim Milton\"}, {\"credit_id\": \"54959a51c3a3686af3003eb5\", \"department\": \"Visual Effects\", \"gender\": 0, \"id\": 1401793, \"job\": \"Visual Effects Producer\", \"name\": \"Cyndi Ochs\"}, {\"credit_id\": \"54959a7cc3a36811530026f4\", \"department\": \"Crew\", \"gender\": 0, \"id\": 1401794, \"job\": \"Visual Effects Editor\", \"name\": \"Lucas Putnam\"}, {\"credit_id\": \"54959b91c3a3680ff5002cb4\", \"department\": \"Visual Effects\", \"gender\": 0, \"id\": 1401795, \"job\": \"Visual Effects Supervisor\", \"name\": \"Anthony \\'Max\\' Ivins\"}, {\"credit_id\": \"54959bb69251412c4e002a5f\", \"department\": \"Visual Effects\", \"gender\": 0, \"id\": 1401796, \"job\": \"Visual Effects Supervisor\", \"name\": \"John Knoll\"}, {\"credit_id\": \"54959cbbc3a3686ae3004391\", \"department\": \"Visual Effects\", \"gender\": 2, \"id\": 1401799, \"job\": \"Visual Effects Supervisor\", \"name\": \"Eric Saindon\"}, {\"credit_id\": \"54959d06c3a3686ae90043f6\", \"department\": \"Visual Effects\", \"gender\": 0, \"id\": 1401800, \"job\": \"Visual Effects Supervisor\", \"name\": \"Wayne Stables\"}, {\"credit_id\": \"54959d259251416e1e003f11\", \"department\": \"Visual Effects\", \"gender\": 0, \"id\": 1401801, \"job\": \"Visual Effects Supervisor\", \"name\": \"David Stinnett\"}, {\"credit_id\": \"54959db49251413af7002975\", \"department\": \"Visual Effects\", \"gender\": 0, \"id\": 1401803, \"job\": \"Visual Effects Supervisor\", \"name\": \"Guy Williams\"}, {\"credit_id\": \"54959de4c3a3681153002750\", \"department\": \"Crew\", \"gender\": 0, \"id\": 1401804, \"job\": \"Stunt Coordinator\", \"name\": \"Stuart Thorp\"}, {\"credit_id\": \"54959ef2c3a3680fc60027f2\", \"department\": \"Lighting\", \"gender\": 0, \"id\": 1401805, \"job\": \"Best Boy Electric\", \"name\": \"Giles Coburn\"}, {\"credit_id\": \"54959f07c3a3680fc60027f9\", \"department\": \"Camera\", \"gender\": 2, \"id\": 1401806, \"job\": \"Still Photographer\", \"name\": \"Mark Fellman\"}, {\"credit_id\": \"54959f47c3a3681153002774\", \"department\": \"Lighting\", \"gender\": 0, \"id\": 1401807, \"job\": \"Lighting Technician\", \"name\": \"Scott Sprague\"}, {\"credit_id\": \"54959f8cc3a36831b8001df2\", \"department\": \"Visual Effects\", \"gender\": 0, \"id\": 1401808, \"job\": \"Animation Director\", \"name\": \"Jeremy Hollobon\"}, {\"credit_id\": \"54959fa0c3a36831b8001dfb\", \"department\": \"Visual Effects\", \"gender\": 0, \"id\": 1401809, \"job\": \"Animation Director\", \"name\": \"Orlando Meunier\"}, {\"credit_id\": \"54959fb6c3a3686af3003f54\", \"department\": \"Visual Effects\", \"gender\": 0, \"id\": 1401810, \"job\": \"Animation Director\", \"name\": \"Taisuke Tanimura\"}, {\"credit_id\": \"54959fd2c3a36831b8001e02\", \"department\": \"Costume & Make-Up\", \"gender\": 0, \"id\": 1401812, \"job\": \"Set Costumer\", \"name\": \"Lilia Mishel Acevedo\"}, {\"credit_id\": \"54959ff9c3a3686ae300440c\", \"department\": \"Costume & Make-Up\", \"gender\": 0, \"id\": 1401814, \"job\": \"Set Costumer\", \"name\": \"Alejandro M. Hernandez\"}, {\"credit_id\": \"5495a0ddc3a3686ae10046fe\", \"department\": \"Editing\", \"gender\": 0, \"id\": 1401815, \"job\": \"Digital Intermediate\", \"name\": \"Marvin Hall\"}, {\"credit_id\": \"5495a1f7c3a3686ae3004443\", \"department\": \"Production\", \"gender\": 0, \"id\": 1401816, \"job\": \"Publicist\", \"name\": \"Judy Alley\"}, {\"credit_id\": \"5592b29fc3a36869d100002f\", \"department\": \"Crew\", \"gender\": 0, \"id\": 1418381, \"job\": \"CG Supervisor\", \"name\": \"Mike Perry\"}, {\"credit_id\": \"5592b23a9251415df8001081\", \"department\": \"Crew\", \"gender\": 0, \"id\": 1426854, \"job\": \"CG Supervisor\", \"name\": \"Andrew Morley\"}, {\"credit_id\": \"55491e1192514104c40002d8\", \"department\": \"Art\", \"gender\": 0, \"id\": 1438901, \"job\": \"Conceptual Design\", \"name\": \"Seth Engstrom\"}, {\"credit_id\": \"5525d5809251417276002b06\", \"department\": \"Crew\", \"gender\": 0, \"id\": 1447362, \"job\": \"Visual Effects Art Director\", \"name\": \"Eric Oliver\"}, {\"credit_id\": \"554427ca925141586500312a\", \"department\": \"Visual Effects\", \"gender\": 0, \"id\": 1447503, \"job\": \"Modeling\", \"name\": \"Matsune Suzuki\"}, {\"credit_id\": \"551906889251415aab001c88\", \"department\": \"Art\", \"gender\": 0, \"id\": 1447524, \"job\": \"Art Department Manager\", \"name\": \"Paul Tobin\"}, {\"credit_id\": \"5592af8492514152cc0010de\", \"department\": \"Costume & Make-Up\", \"gender\": 0, \"id\": 1452643, \"job\": \"Hairstylist\", \"name\": \"Roxane Griffin\"}, {\"credit_id\": \"553d3c109251415852001318\", \"department\": \"Lighting\", \"gender\": 0, \"id\": 1453938, \"job\": \"Lighting Artist\", \"name\": \"Arun Ram-Mohan\"}, {\"credit_id\": \"5592af4692514152d5001355\", \"department\": \"Costume & Make-Up\", \"gender\": 0, \"id\": 1457305, \"job\": \"Makeup Artist\", \"name\": \"Georgia Lockhart-Adams\"}, {\"credit_id\": \"5592b2eac3a36877470012a5\", \"department\": \"Crew\", \"gender\": 0, \"id\": 1466035, \"job\": \"CG Supervisor\", \"name\": \"Thrain Shadbolt\"}, {\"credit_id\": \"5592b032c3a36877450015f1\", \"department\": \"Crew\", \"gender\": 0, \"id\": 1483220, \"job\": \"CG Supervisor\", \"name\": \"Brad Alexander\"}, {\"credit_id\": \"5592b05592514152d80012f6\", \"department\": \"Crew\", \"gender\": 0, \"id\": 1483221, \"job\": \"CG Supervisor\", \"name\": \"Shadi Almassizadeh\"}, {\"credit_id\": \"5592b090c3a36877570010b5\", \"department\": \"Crew\", \"gender\": 0, \"id\": 1483222, \"job\": \"CG Supervisor\", \"name\": \"Simon Clutterbuck\"}, {\"credit_id\": \"5592b0dbc3a368774b00112c\", \"department\": \"Crew\", \"gender\": 0, \"id\": 1483223, \"job\": \"CG Supervisor\", \"name\": \"Graeme Demmocks\"}, {\"credit_id\": \"5592b0fe92514152db0010c1\", \"department\": \"Crew\", \"gender\": 0, \"id\": 1483224, \"job\": \"CG Supervisor\", \"name\": \"Adrian Fernandes\"}, {\"credit_id\": \"5592b11f9251415df8001059\", \"department\": \"Crew\", \"gender\": 0, \"id\": 1483225, \"job\": \"CG Supervisor\", \"name\": \"Mitch Gates\"}, {\"credit_id\": \"5592b15dc3a3687745001645\", \"department\": \"Crew\", \"gender\": 0, \"id\": 1483226, \"job\": \"CG Supervisor\", \"name\": \"Jerry Kung\"}, {\"credit_id\": \"5592b18e925141645a0004ae\", \"department\": \"Crew\", \"gender\": 0, \"id\": 1483227, \"job\": \"CG Supervisor\", \"name\": \"Andy Lomas\"}, {\"credit_id\": \"5592b1bfc3a368775d0010e7\", \"department\": \"Crew\", \"gender\": 0, \"id\": 1483228, \"job\": \"CG Supervisor\", \"name\": \"Sebastian Marino\"}, {\"credit_id\": \"5592b2049251415df8001078\", \"department\": \"Crew\", \"gender\": 0, \"id\": 1483229, \"job\": \"CG Supervisor\", \"name\": \"Matthias Menz\"}, {\"credit_id\": \"5592b27b92514152d800136a\", \"department\": \"Crew\", \"gender\": 0, \"id\": 1483230, \"job\": \"CG Supervisor\", \"name\": \"Sergei Nevshupov\"}, {\"credit_id\": \"5592b2c3c3a36869e800003c\", \"department\": \"Crew\", \"gender\": 0, \"id\": 1483231, \"job\": \"CG Supervisor\", \"name\": \"Philippe Rebours\"}, {\"credit_id\": \"5592b317c3a36877470012af\", \"department\": \"Crew\", \"gender\": 0, \"id\": 1483232, \"job\": \"CG Supervisor\", \"name\": \"Michael Takarangi\"}, {\"credit_id\": \"5592b345c3a36877470012bb\", \"department\": \"Crew\", \"gender\": 0, \"id\": 1483233, \"job\": \"CG Supervisor\", \"name\": \"David Weitzberg\"}, {\"credit_id\": \"5592b37cc3a368775100113b\", \"department\": \"Crew\", \"gender\": 0, \"id\": 1483234, \"job\": \"CG Supervisor\", \"name\": \"Ben White\"}, {\"credit_id\": \"573c8e2f9251413f5d000094\", \"department\": \"Crew\", \"gender\": 1, \"id\": 1621932, \"job\": \"Stunts\", \"name\": \"Min Windle\"}]'"
            ]
          },
          "metadata": {},
          "execution_count": 66
        }
      ]
    },
    {
      "cell_type": "code",
      "source": [
        "def fetch_director(obj):        #define a function to select the director from the list\n",
        "    L = []\n",
        "    for i in ast.literal_eval(obj):\n",
        "        if i['job'] == 'Director':\n",
        "            L.append(i['name'])\n",
        "            break\n",
        "    return L "
      ],
      "metadata": {
        "id": "3qZOSWhxMvoD"
      },
      "execution_count": 67,
      "outputs": []
    },
    {
      "cell_type": "code",
      "source": [
        "movies['crew'].apply(fetch_director)      #apply the above function to the 'crew' column"
      ],
      "metadata": {
        "colab": {
          "base_uri": "https://localhost:8080/"
        },
        "id": "oyxjmNo-MxS3",
        "outputId": "f56ba9b6-4d00-4a53-8812-7ceeb7972610"
      },
      "execution_count": 68,
      "outputs": [
        {
          "output_type": "execute_result",
          "data": {
            "text/plain": [
              "0           [James Cameron]\n",
              "1          [Gore Verbinski]\n",
              "2              [Sam Mendes]\n",
              "3       [Christopher Nolan]\n",
              "4          [Andrew Stanton]\n",
              "               ...         \n",
              "4804     [Robert Rodriguez]\n",
              "4805         [Edward Burns]\n",
              "4806          [Scott Smith]\n",
              "4807          [Daniel Hsia]\n",
              "4808     [Brian Herzlinger]\n",
              "Name: crew, Length: 4806, dtype: object"
            ]
          },
          "metadata": {},
          "execution_count": 68
        }
      ]
    },
    {
      "cell_type": "code",
      "source": [
        "movies['crew'] = movies['crew'].apply(fetch_director)    #again assign the new values to the column"
      ],
      "metadata": {
        "id": "DRIkPXxJNzH3"
      },
      "execution_count": 69,
      "outputs": []
    },
    {
      "cell_type": "code",
      "source": [
        "movies.head()"
      ],
      "metadata": {
        "colab": {
          "base_uri": "https://localhost:8080/",
          "height": 354
        },
        "id": "RT0_AgmUN70n",
        "outputId": "49aa250d-8cb8-44f3-86fc-6d391a7f2225"
      },
      "execution_count": 70,
      "outputs": [
        {
          "output_type": "execute_result",
          "data": {
            "text/html": [
              "\n",
              "  <div id=\"df-826924aa-579b-49ae-a9d3-8a7c69e4bc68\">\n",
              "    <div class=\"colab-df-container\">\n",
              "      <div>\n",
              "<style scoped>\n",
              "    .dataframe tbody tr th:only-of-type {\n",
              "        vertical-align: middle;\n",
              "    }\n",
              "\n",
              "    .dataframe tbody tr th {\n",
              "        vertical-align: top;\n",
              "    }\n",
              "\n",
              "    .dataframe thead th {\n",
              "        text-align: right;\n",
              "    }\n",
              "</style>\n",
              "<table border=\"1\" class=\"dataframe\">\n",
              "  <thead>\n",
              "    <tr style=\"text-align: right;\">\n",
              "      <th></th>\n",
              "      <th>movie_id</th>\n",
              "      <th>title</th>\n",
              "      <th>overview</th>\n",
              "      <th>genres</th>\n",
              "      <th>keywords</th>\n",
              "      <th>cast</th>\n",
              "      <th>crew</th>\n",
              "    </tr>\n",
              "  </thead>\n",
              "  <tbody>\n",
              "    <tr>\n",
              "      <th>0</th>\n",
              "      <td>19995</td>\n",
              "      <td>Avatar</td>\n",
              "      <td>In the 22nd century, a paraplegic Marine is di...</td>\n",
              "      <td>[Action, Adventure, Fantasy, Science Fiction]</td>\n",
              "      <td>[culture clash, future, space war, space colon...</td>\n",
              "      <td>[Sam Worthington, Zoe Saldana, Sigourney Weaver]</td>\n",
              "      <td>[James Cameron]</td>\n",
              "    </tr>\n",
              "    <tr>\n",
              "      <th>1</th>\n",
              "      <td>285</td>\n",
              "      <td>Pirates of the Caribbean: At World's End</td>\n",
              "      <td>Captain Barbossa, long believed to be dead, ha...</td>\n",
              "      <td>[Adventure, Fantasy, Action]</td>\n",
              "      <td>[ocean, drug abuse, exotic island, east india ...</td>\n",
              "      <td>[Johnny Depp, Orlando Bloom, Keira Knightley]</td>\n",
              "      <td>[Gore Verbinski]</td>\n",
              "    </tr>\n",
              "    <tr>\n",
              "      <th>2</th>\n",
              "      <td>206647</td>\n",
              "      <td>Spectre</td>\n",
              "      <td>A cryptic message from Bond’s past sends him o...</td>\n",
              "      <td>[Action, Adventure, Crime]</td>\n",
              "      <td>[spy, based on novel, secret agent, sequel, mi...</td>\n",
              "      <td>[Daniel Craig, Christoph Waltz, Léa Seydoux]</td>\n",
              "      <td>[Sam Mendes]</td>\n",
              "    </tr>\n",
              "    <tr>\n",
              "      <th>3</th>\n",
              "      <td>49026</td>\n",
              "      <td>The Dark Knight Rises</td>\n",
              "      <td>Following the death of District Attorney Harve...</td>\n",
              "      <td>[Action, Crime, Drama, Thriller]</td>\n",
              "      <td>[dc comics, crime fighter, terrorist, secret i...</td>\n",
              "      <td>[Christian Bale, Michael Caine, Gary Oldman]</td>\n",
              "      <td>[Christopher Nolan]</td>\n",
              "    </tr>\n",
              "    <tr>\n",
              "      <th>4</th>\n",
              "      <td>49529</td>\n",
              "      <td>John Carter</td>\n",
              "      <td>John Carter is a war-weary, former military ca...</td>\n",
              "      <td>[Action, Adventure, Science Fiction]</td>\n",
              "      <td>[based on novel, mars, medallion, space travel...</td>\n",
              "      <td>[Taylor Kitsch, Lynn Collins, Samantha Morton]</td>\n",
              "      <td>[Andrew Stanton]</td>\n",
              "    </tr>\n",
              "  </tbody>\n",
              "</table>\n",
              "</div>\n",
              "      <button class=\"colab-df-convert\" onclick=\"convertToInteractive('df-826924aa-579b-49ae-a9d3-8a7c69e4bc68')\"\n",
              "              title=\"Convert this dataframe to an interactive table.\"\n",
              "              style=\"display:none;\">\n",
              "        \n",
              "  <svg xmlns=\"http://www.w3.org/2000/svg\" height=\"24px\"viewBox=\"0 0 24 24\"\n",
              "       width=\"24px\">\n",
              "    <path d=\"M0 0h24v24H0V0z\" fill=\"none\"/>\n",
              "    <path d=\"M18.56 5.44l.94 2.06.94-2.06 2.06-.94-2.06-.94-.94-2.06-.94 2.06-2.06.94zm-11 1L8.5 8.5l.94-2.06 2.06-.94-2.06-.94L8.5 2.5l-.94 2.06-2.06.94zm10 10l.94 2.06.94-2.06 2.06-.94-2.06-.94-.94-2.06-.94 2.06-2.06.94z\"/><path d=\"M17.41 7.96l-1.37-1.37c-.4-.4-.92-.59-1.43-.59-.52 0-1.04.2-1.43.59L10.3 9.45l-7.72 7.72c-.78.78-.78 2.05 0 2.83L4 21.41c.39.39.9.59 1.41.59.51 0 1.02-.2 1.41-.59l7.78-7.78 2.81-2.81c.8-.78.8-2.07 0-2.86zM5.41 20L4 18.59l7.72-7.72 1.47 1.35L5.41 20z\"/>\n",
              "  </svg>\n",
              "      </button>\n",
              "      \n",
              "  <style>\n",
              "    .colab-df-container {\n",
              "      display:flex;\n",
              "      flex-wrap:wrap;\n",
              "      gap: 12px;\n",
              "    }\n",
              "\n",
              "    .colab-df-convert {\n",
              "      background-color: #E8F0FE;\n",
              "      border: none;\n",
              "      border-radius: 50%;\n",
              "      cursor: pointer;\n",
              "      display: none;\n",
              "      fill: #1967D2;\n",
              "      height: 32px;\n",
              "      padding: 0 0 0 0;\n",
              "      width: 32px;\n",
              "    }\n",
              "\n",
              "    .colab-df-convert:hover {\n",
              "      background-color: #E2EBFA;\n",
              "      box-shadow: 0px 1px 2px rgba(60, 64, 67, 0.3), 0px 1px 3px 1px rgba(60, 64, 67, 0.15);\n",
              "      fill: #174EA6;\n",
              "    }\n",
              "\n",
              "    [theme=dark] .colab-df-convert {\n",
              "      background-color: #3B4455;\n",
              "      fill: #D2E3FC;\n",
              "    }\n",
              "\n",
              "    [theme=dark] .colab-df-convert:hover {\n",
              "      background-color: #434B5C;\n",
              "      box-shadow: 0px 1px 3px 1px rgba(0, 0, 0, 0.15);\n",
              "      filter: drop-shadow(0px 1px 2px rgba(0, 0, 0, 0.3));\n",
              "      fill: #FFFFFF;\n",
              "    }\n",
              "  </style>\n",
              "\n",
              "      <script>\n",
              "        const buttonEl =\n",
              "          document.querySelector('#df-826924aa-579b-49ae-a9d3-8a7c69e4bc68 button.colab-df-convert');\n",
              "        buttonEl.style.display =\n",
              "          google.colab.kernel.accessAllowed ? 'block' : 'none';\n",
              "\n",
              "        async function convertToInteractive(key) {\n",
              "          const element = document.querySelector('#df-826924aa-579b-49ae-a9d3-8a7c69e4bc68');\n",
              "          const dataTable =\n",
              "            await google.colab.kernel.invokeFunction('convertToInteractive',\n",
              "                                                     [key], {});\n",
              "          if (!dataTable) return;\n",
              "\n",
              "          const docLinkHtml = 'Like what you see? Visit the ' +\n",
              "            '<a target=\"_blank\" href=https://colab.research.google.com/notebooks/data_table.ipynb>data table notebook</a>'\n",
              "            + ' to learn more about interactive tables.';\n",
              "          element.innerHTML = '';\n",
              "          dataTable['output_type'] = 'display_data';\n",
              "          await google.colab.output.renderOutput(dataTable, element);\n",
              "          const docLink = document.createElement('div');\n",
              "          docLink.innerHTML = docLinkHtml;\n",
              "          element.appendChild(docLink);\n",
              "        }\n",
              "      </script>\n",
              "    </div>\n",
              "  </div>\n",
              "  "
            ],
            "text/plain": [
              "   movie_id  ...                 crew\n",
              "0     19995  ...      [James Cameron]\n",
              "1       285  ...     [Gore Verbinski]\n",
              "2    206647  ...         [Sam Mendes]\n",
              "3     49026  ...  [Christopher Nolan]\n",
              "4     49529  ...     [Andrew Stanton]\n",
              "\n",
              "[5 rows x 7 columns]"
            ]
          },
          "metadata": {},
          "execution_count": 70
        }
      ]
    },
    {
      "cell_type": "code",
      "source": [
        "movies['overview'][0]"
      ],
      "metadata": {
        "colab": {
          "base_uri": "https://localhost:8080/",
          "height": 53
        },
        "id": "azTSbzciOA2v",
        "outputId": "e73ccf6d-affd-49d0-9ab4-9a81a64a4768"
      },
      "execution_count": 71,
      "outputs": [
        {
          "output_type": "execute_result",
          "data": {
            "application/vnd.google.colaboratory.intrinsic+json": {
              "type": "string"
            },
            "text/plain": [
              "'In the 22nd century, a paraplegic Marine is dispatched to the moon Pandora on a unique mission, but becomes torn between following orders and protecting an alien civilization.'"
            ]
          },
          "metadata": {},
          "execution_count": 71
        }
      ]
    },
    {
      "cell_type": "code",
      "source": [
        "movies['overview'] = movies['overview'].apply(lambda x:x.split())\n"
      ],
      "metadata": {
        "id": "ZkwIjpdcOUMY"
      },
      "execution_count": 72,
      "outputs": []
    },
    {
      "cell_type": "code",
      "source": [
        "movies['overview'][0]"
      ],
      "metadata": {
        "colab": {
          "base_uri": "https://localhost:8080/"
        },
        "id": "M4H1YWdoR-pe",
        "outputId": "757d698f-b0a1-4714-fbf3-6de4e29e19e9"
      },
      "execution_count": 73,
      "outputs": [
        {
          "output_type": "execute_result",
          "data": {
            "text/plain": [
              "['In',\n",
              " 'the',\n",
              " '22nd',\n",
              " 'century,',\n",
              " 'a',\n",
              " 'paraplegic',\n",
              " 'Marine',\n",
              " 'is',\n",
              " 'dispatched',\n",
              " 'to',\n",
              " 'the',\n",
              " 'moon',\n",
              " 'Pandora',\n",
              " 'on',\n",
              " 'a',\n",
              " 'unique',\n",
              " 'mission,',\n",
              " 'but',\n",
              " 'becomes',\n",
              " 'torn',\n",
              " 'between',\n",
              " 'following',\n",
              " 'orders',\n",
              " 'and',\n",
              " 'protecting',\n",
              " 'an',\n",
              " 'alien',\n",
              " 'civilization.']"
            ]
          },
          "metadata": {},
          "execution_count": 73
        }
      ]
    },
    {
      "cell_type": "code",
      "source": [
        "movies['genres'] = movies['genres'].apply(lambda x:[i.replace(\" \",\"\") for i in x])\n",
        "movies['keywords'] = movies['keywords'].apply(lambda x:[i.replace(\" \",\"\") for i in x])\n",
        "movies['cast'] = movies['cast'].apply(lambda x:[i.replace(\" \",\"\") for i in x])\n",
        "movies['crew'] = movies['crew'].apply(lambda x:[i.replace(\" \",\"\") for i in x])"
      ],
      "metadata": {
        "id": "mn5r-olhSDKn"
      },
      "execution_count": 74,
      "outputs": []
    },
    {
      "cell_type": "code",
      "source": [
        "movies.head()"
      ],
      "metadata": {
        "colab": {
          "base_uri": "https://localhost:8080/",
          "height": 389
        },
        "id": "P5xzW-tQSM8x",
        "outputId": "ed0c282a-0816-4bf9-f5c0-2a4bd6785286"
      },
      "execution_count": 75,
      "outputs": [
        {
          "output_type": "execute_result",
          "data": {
            "text/html": [
              "\n",
              "  <div id=\"df-b7eb9fb6-a6c8-4081-b407-aaf8d2a5cd3d\">\n",
              "    <div class=\"colab-df-container\">\n",
              "      <div>\n",
              "<style scoped>\n",
              "    .dataframe tbody tr th:only-of-type {\n",
              "        vertical-align: middle;\n",
              "    }\n",
              "\n",
              "    .dataframe tbody tr th {\n",
              "        vertical-align: top;\n",
              "    }\n",
              "\n",
              "    .dataframe thead th {\n",
              "        text-align: right;\n",
              "    }\n",
              "</style>\n",
              "<table border=\"1\" class=\"dataframe\">\n",
              "  <thead>\n",
              "    <tr style=\"text-align: right;\">\n",
              "      <th></th>\n",
              "      <th>movie_id</th>\n",
              "      <th>title</th>\n",
              "      <th>overview</th>\n",
              "      <th>genres</th>\n",
              "      <th>keywords</th>\n",
              "      <th>cast</th>\n",
              "      <th>crew</th>\n",
              "    </tr>\n",
              "  </thead>\n",
              "  <tbody>\n",
              "    <tr>\n",
              "      <th>0</th>\n",
              "      <td>19995</td>\n",
              "      <td>Avatar</td>\n",
              "      <td>[In, the, 22nd, century,, a, paraplegic, Marin...</td>\n",
              "      <td>[Action, Adventure, Fantasy, ScienceFiction]</td>\n",
              "      <td>[cultureclash, future, spacewar, spacecolony, ...</td>\n",
              "      <td>[SamWorthington, ZoeSaldana, SigourneyWeaver]</td>\n",
              "      <td>[JamesCameron]</td>\n",
              "    </tr>\n",
              "    <tr>\n",
              "      <th>1</th>\n",
              "      <td>285</td>\n",
              "      <td>Pirates of the Caribbean: At World's End</td>\n",
              "      <td>[Captain, Barbossa,, long, believed, to, be, d...</td>\n",
              "      <td>[Adventure, Fantasy, Action]</td>\n",
              "      <td>[ocean, drugabuse, exoticisland, eastindiatrad...</td>\n",
              "      <td>[JohnnyDepp, OrlandoBloom, KeiraKnightley]</td>\n",
              "      <td>[GoreVerbinski]</td>\n",
              "    </tr>\n",
              "    <tr>\n",
              "      <th>2</th>\n",
              "      <td>206647</td>\n",
              "      <td>Spectre</td>\n",
              "      <td>[A, cryptic, message, from, Bond’s, past, send...</td>\n",
              "      <td>[Action, Adventure, Crime]</td>\n",
              "      <td>[spy, basedonnovel, secretagent, sequel, mi6, ...</td>\n",
              "      <td>[DanielCraig, ChristophWaltz, LéaSeydoux]</td>\n",
              "      <td>[SamMendes]</td>\n",
              "    </tr>\n",
              "    <tr>\n",
              "      <th>3</th>\n",
              "      <td>49026</td>\n",
              "      <td>The Dark Knight Rises</td>\n",
              "      <td>[Following, the, death, of, District, Attorney...</td>\n",
              "      <td>[Action, Crime, Drama, Thriller]</td>\n",
              "      <td>[dccomics, crimefighter, terrorist, secretiden...</td>\n",
              "      <td>[ChristianBale, MichaelCaine, GaryOldman]</td>\n",
              "      <td>[ChristopherNolan]</td>\n",
              "    </tr>\n",
              "    <tr>\n",
              "      <th>4</th>\n",
              "      <td>49529</td>\n",
              "      <td>John Carter</td>\n",
              "      <td>[John, Carter, is, a, war-weary,, former, mili...</td>\n",
              "      <td>[Action, Adventure, ScienceFiction]</td>\n",
              "      <td>[basedonnovel, mars, medallion, spacetravel, p...</td>\n",
              "      <td>[TaylorKitsch, LynnCollins, SamanthaMorton]</td>\n",
              "      <td>[AndrewStanton]</td>\n",
              "    </tr>\n",
              "  </tbody>\n",
              "</table>\n",
              "</div>\n",
              "      <button class=\"colab-df-convert\" onclick=\"convertToInteractive('df-b7eb9fb6-a6c8-4081-b407-aaf8d2a5cd3d')\"\n",
              "              title=\"Convert this dataframe to an interactive table.\"\n",
              "              style=\"display:none;\">\n",
              "        \n",
              "  <svg xmlns=\"http://www.w3.org/2000/svg\" height=\"24px\"viewBox=\"0 0 24 24\"\n",
              "       width=\"24px\">\n",
              "    <path d=\"M0 0h24v24H0V0z\" fill=\"none\"/>\n",
              "    <path d=\"M18.56 5.44l.94 2.06.94-2.06 2.06-.94-2.06-.94-.94-2.06-.94 2.06-2.06.94zm-11 1L8.5 8.5l.94-2.06 2.06-.94-2.06-.94L8.5 2.5l-.94 2.06-2.06.94zm10 10l.94 2.06.94-2.06 2.06-.94-2.06-.94-.94-2.06-.94 2.06-2.06.94z\"/><path d=\"M17.41 7.96l-1.37-1.37c-.4-.4-.92-.59-1.43-.59-.52 0-1.04.2-1.43.59L10.3 9.45l-7.72 7.72c-.78.78-.78 2.05 0 2.83L4 21.41c.39.39.9.59 1.41.59.51 0 1.02-.2 1.41-.59l7.78-7.78 2.81-2.81c.8-.78.8-2.07 0-2.86zM5.41 20L4 18.59l7.72-7.72 1.47 1.35L5.41 20z\"/>\n",
              "  </svg>\n",
              "      </button>\n",
              "      \n",
              "  <style>\n",
              "    .colab-df-container {\n",
              "      display:flex;\n",
              "      flex-wrap:wrap;\n",
              "      gap: 12px;\n",
              "    }\n",
              "\n",
              "    .colab-df-convert {\n",
              "      background-color: #E8F0FE;\n",
              "      border: none;\n",
              "      border-radius: 50%;\n",
              "      cursor: pointer;\n",
              "      display: none;\n",
              "      fill: #1967D2;\n",
              "      height: 32px;\n",
              "      padding: 0 0 0 0;\n",
              "      width: 32px;\n",
              "    }\n",
              "\n",
              "    .colab-df-convert:hover {\n",
              "      background-color: #E2EBFA;\n",
              "      box-shadow: 0px 1px 2px rgba(60, 64, 67, 0.3), 0px 1px 3px 1px rgba(60, 64, 67, 0.15);\n",
              "      fill: #174EA6;\n",
              "    }\n",
              "\n",
              "    [theme=dark] .colab-df-convert {\n",
              "      background-color: #3B4455;\n",
              "      fill: #D2E3FC;\n",
              "    }\n",
              "\n",
              "    [theme=dark] .colab-df-convert:hover {\n",
              "      background-color: #434B5C;\n",
              "      box-shadow: 0px 1px 3px 1px rgba(0, 0, 0, 0.15);\n",
              "      filter: drop-shadow(0px 1px 2px rgba(0, 0, 0, 0.3));\n",
              "      fill: #FFFFFF;\n",
              "    }\n",
              "  </style>\n",
              "\n",
              "      <script>\n",
              "        const buttonEl =\n",
              "          document.querySelector('#df-b7eb9fb6-a6c8-4081-b407-aaf8d2a5cd3d button.colab-df-convert');\n",
              "        buttonEl.style.display =\n",
              "          google.colab.kernel.accessAllowed ? 'block' : 'none';\n",
              "\n",
              "        async function convertToInteractive(key) {\n",
              "          const element = document.querySelector('#df-b7eb9fb6-a6c8-4081-b407-aaf8d2a5cd3d');\n",
              "          const dataTable =\n",
              "            await google.colab.kernel.invokeFunction('convertToInteractive',\n",
              "                                                     [key], {});\n",
              "          if (!dataTable) return;\n",
              "\n",
              "          const docLinkHtml = 'Like what you see? Visit the ' +\n",
              "            '<a target=\"_blank\" href=https://colab.research.google.com/notebooks/data_table.ipynb>data table notebook</a>'\n",
              "            + ' to learn more about interactive tables.';\n",
              "          element.innerHTML = '';\n",
              "          dataTable['output_type'] = 'display_data';\n",
              "          await google.colab.output.renderOutput(dataTable, element);\n",
              "          const docLink = document.createElement('div');\n",
              "          docLink.innerHTML = docLinkHtml;\n",
              "          element.appendChild(docLink);\n",
              "        }\n",
              "      </script>\n",
              "    </div>\n",
              "  </div>\n",
              "  "
            ],
            "text/plain": [
              "   movie_id  ...                crew\n",
              "0     19995  ...      [JamesCameron]\n",
              "1       285  ...     [GoreVerbinski]\n",
              "2    206647  ...         [SamMendes]\n",
              "3     49026  ...  [ChristopherNolan]\n",
              "4     49529  ...     [AndrewStanton]\n",
              "\n",
              "[5 rows x 7 columns]"
            ]
          },
          "metadata": {},
          "execution_count": 75
        }
      ]
    },
    {
      "cell_type": "code",
      "source": [
        "movies['crew'][0]"
      ],
      "metadata": {
        "colab": {
          "base_uri": "https://localhost:8080/"
        },
        "id": "O0KpAWC1SRl1",
        "outputId": "140d155c-22bb-48a1-c91a-32beef6dd6da"
      },
      "execution_count": 76,
      "outputs": [
        {
          "output_type": "execute_result",
          "data": {
            "text/plain": [
              "['JamesCameron']"
            ]
          },
          "metadata": {},
          "execution_count": 76
        }
      ]
    },
    {
      "cell_type": "code",
      "source": [
        "movies['tags'] = movies['overview']+ movies['genres'] + movies['keywords'] + movies['cast'] + movies['crew']"
      ],
      "metadata": {
        "id": "SuZ-pWFZSYlR"
      },
      "execution_count": 77,
      "outputs": []
    },
    {
      "cell_type": "code",
      "source": [
        "new_df = movies[['movie_id','title','tags']]"
      ],
      "metadata": {
        "id": "RzkYUU5pScbZ"
      },
      "execution_count": 78,
      "outputs": []
    },
    {
      "cell_type": "code",
      "source": [
        "new_df['tags'][0]"
      ],
      "metadata": {
        "colab": {
          "base_uri": "https://localhost:8080/"
        },
        "id": "sNnGETWLSd1u",
        "outputId": "3f1d236e-53f9-4852-a760-0aae2912fbbd"
      },
      "execution_count": 79,
      "outputs": [
        {
          "output_type": "execute_result",
          "data": {
            "text/plain": [
              "['In',\n",
              " 'the',\n",
              " '22nd',\n",
              " 'century,',\n",
              " 'a',\n",
              " 'paraplegic',\n",
              " 'Marine',\n",
              " 'is',\n",
              " 'dispatched',\n",
              " 'to',\n",
              " 'the',\n",
              " 'moon',\n",
              " 'Pandora',\n",
              " 'on',\n",
              " 'a',\n",
              " 'unique',\n",
              " 'mission,',\n",
              " 'but',\n",
              " 'becomes',\n",
              " 'torn',\n",
              " 'between',\n",
              " 'following',\n",
              " 'orders',\n",
              " 'and',\n",
              " 'protecting',\n",
              " 'an',\n",
              " 'alien',\n",
              " 'civilization.',\n",
              " 'Action',\n",
              " 'Adventure',\n",
              " 'Fantasy',\n",
              " 'ScienceFiction',\n",
              " 'cultureclash',\n",
              " 'future',\n",
              " 'spacewar',\n",
              " 'spacecolony',\n",
              " 'society',\n",
              " 'spacetravel',\n",
              " 'futuristic',\n",
              " 'romance',\n",
              " 'space',\n",
              " 'alien',\n",
              " 'tribe',\n",
              " 'alienplanet',\n",
              " 'cgi',\n",
              " 'marine',\n",
              " 'soldier',\n",
              " 'battle',\n",
              " 'loveaffair',\n",
              " 'antiwar',\n",
              " 'powerrelations',\n",
              " 'mindandsoul',\n",
              " '3d',\n",
              " 'SamWorthington',\n",
              " 'ZoeSaldana',\n",
              " 'SigourneyWeaver',\n",
              " 'JamesCameron']"
            ]
          },
          "metadata": {},
          "execution_count": 79
        }
      ]
    },
    {
      "cell_type": "code",
      "source": [
        "new_df['tags'].apply(lambda x:\" \".join(x))"
      ],
      "metadata": {
        "colab": {
          "base_uri": "https://localhost:8080/"
        },
        "id": "zhEiyESESo5e",
        "outputId": "6aa11518-6232-4332-e66f-78d12e8518cb"
      },
      "execution_count": 80,
      "outputs": [
        {
          "output_type": "execute_result",
          "data": {
            "text/plain": [
              "0       In the 22nd century, a paraplegic Marine is di...\n",
              "1       Captain Barbossa, long believed to be dead, ha...\n",
              "2       A cryptic message from Bond’s past sends him o...\n",
              "3       Following the death of District Attorney Harve...\n",
              "4       John Carter is a war-weary, former military ca...\n",
              "                              ...                        \n",
              "4804    El Mariachi just wants to play his guitar and ...\n",
              "4805    A newlywed couple's honeymoon is upended by th...\n",
              "4806    \"Signed, Sealed, Delivered\" introduces a dedic...\n",
              "4807    When ambitious New York attorney Sam is sent t...\n",
              "4808    Ever since the second grade when he first saw ...\n",
              "Name: tags, Length: 4806, dtype: object"
            ]
          },
          "metadata": {},
          "execution_count": 80
        }
      ]
    },
    {
      "cell_type": "code",
      "source": [
        "new_df['tags']= new_df['tags'].apply(lambda x:\" \".join(x))"
      ],
      "metadata": {
        "colab": {
          "base_uri": "https://localhost:8080/"
        },
        "id": "XUyh7aEoS2Bi",
        "outputId": "5cd339e6-75b9-4763-d3ad-96a4187d718e"
      },
      "execution_count": 81,
      "outputs": [
        {
          "output_type": "stream",
          "name": "stderr",
          "text": [
            "/usr/local/lib/python3.7/dist-packages/ipykernel_launcher.py:1: SettingWithCopyWarning: \n",
            "A value is trying to be set on a copy of a slice from a DataFrame.\n",
            "Try using .loc[row_indexer,col_indexer] = value instead\n",
            "\n",
            "See the caveats in the documentation: https://pandas.pydata.org/pandas-docs/stable/user_guide/indexing.html#returning-a-view-versus-a-copy\n",
            "  \"\"\"Entry point for launching an IPython kernel.\n"
          ]
        }
      ]
    },
    {
      "cell_type": "code",
      "source": [
        "new_df['tags'][0]"
      ],
      "metadata": {
        "colab": {
          "base_uri": "https://localhost:8080/",
          "height": 88
        },
        "id": "SVWx2LkrS522",
        "outputId": "cb46682d-0810-48f8-8a43-d54688af01ab"
      },
      "execution_count": 82,
      "outputs": [
        {
          "output_type": "execute_result",
          "data": {
            "application/vnd.google.colaboratory.intrinsic+json": {
              "type": "string"
            },
            "text/plain": [
              "'In the 22nd century, a paraplegic Marine is dispatched to the moon Pandora on a unique mission, but becomes torn between following orders and protecting an alien civilization. Action Adventure Fantasy ScienceFiction cultureclash future spacewar spacecolony society spacetravel futuristic romance space alien tribe alienplanet cgi marine soldier battle loveaffair antiwar powerrelations mindandsoul 3d SamWorthington ZoeSaldana SigourneyWeaver JamesCameron'"
            ]
          },
          "metadata": {},
          "execution_count": 82
        }
      ]
    },
    {
      "cell_type": "code",
      "source": [
        "new_df['tags'] = new_df['tags'].apply(lambda x:x. lower())"
      ],
      "metadata": {
        "colab": {
          "base_uri": "https://localhost:8080/"
        },
        "id": "CqFNnr_6TD02",
        "outputId": "aeeef89c-e715-4adf-b992-2b074b5c89af"
      },
      "execution_count": 83,
      "outputs": [
        {
          "output_type": "stream",
          "name": "stderr",
          "text": [
            "/usr/local/lib/python3.7/dist-packages/ipykernel_launcher.py:1: SettingWithCopyWarning: \n",
            "A value is trying to be set on a copy of a slice from a DataFrame.\n",
            "Try using .loc[row_indexer,col_indexer] = value instead\n",
            "\n",
            "See the caveats in the documentation: https://pandas.pydata.org/pandas-docs/stable/user_guide/indexing.html#returning-a-view-versus-a-copy\n",
            "  \"\"\"Entry point for launching an IPython kernel.\n"
          ]
        }
      ]
    },
    {
      "cell_type": "code",
      "source": [
        "new_df['tags'][0]"
      ],
      "metadata": {
        "colab": {
          "base_uri": "https://localhost:8080/",
          "height": 88
        },
        "id": "WSraybbzTJFG",
        "outputId": "17574d55-c69e-422a-8263-c2486ce8fd2e"
      },
      "execution_count": 84,
      "outputs": [
        {
          "output_type": "execute_result",
          "data": {
            "application/vnd.google.colaboratory.intrinsic+json": {
              "type": "string"
            },
            "text/plain": [
              "'in the 22nd century, a paraplegic marine is dispatched to the moon pandora on a unique mission, but becomes torn between following orders and protecting an alien civilization. action adventure fantasy sciencefiction cultureclash future spacewar spacecolony society spacetravel futuristic romance space alien tribe alienplanet cgi marine soldier battle loveaffair antiwar powerrelations mindandsoul 3d samworthington zoesaldana sigourneyweaver jamescameron'"
            ]
          },
          "metadata": {},
          "execution_count": 84
        }
      ]
    },
    {
      "cell_type": "code",
      "source": [
        "import nltk"
      ],
      "metadata": {
        "id": "SQivyqTsTMOa"
      },
      "execution_count": 85,
      "outputs": []
    },
    {
      "cell_type": "code",
      "source": [
        "from nltk.stem.porter import PorterStemmer\n",
        "ps=PorterStemmer()"
      ],
      "metadata": {
        "id": "hmLkZJkFTPCw"
      },
      "execution_count": 86,
      "outputs": []
    },
    {
      "cell_type": "code",
      "source": [
        "def stem(text):\n",
        "    y = []\n",
        "    \n",
        "    for i in text.split():\n",
        "        y.append(ps.stem(i))\n",
        "        \n",
        "    return \" \".join(y)"
      ],
      "metadata": {
        "id": "qGfX6ZyITSim"
      },
      "execution_count": 87,
      "outputs": []
    },
    {
      "cell_type": "code",
      "source": [
        "ps.stem('dancing')"
      ],
      "metadata": {
        "colab": {
          "base_uri": "https://localhost:8080/",
          "height": 35
        },
        "id": "OEYu1xGiTT3G",
        "outputId": "716d17d6-ea65-448b-e746-e4ef9e27791a"
      },
      "execution_count": 88,
      "outputs": [
        {
          "output_type": "execute_result",
          "data": {
            "application/vnd.google.colaboratory.intrinsic+json": {
              "type": "string"
            },
            "text/plain": [
              "'danc'"
            ]
          },
          "metadata": {},
          "execution_count": 88
        }
      ]
    },
    {
      "cell_type": "code",
      "source": [
        "new_df['tags'] = new_df['tags'].apply(stem)"
      ],
      "metadata": {
        "colab": {
          "base_uri": "https://localhost:8080/"
        },
        "id": "5SCYzs_qTYAH",
        "outputId": "a0392752-93c3-43d1-d5e9-2fbf25b4a534"
      },
      "execution_count": 89,
      "outputs": [
        {
          "output_type": "stream",
          "name": "stderr",
          "text": [
            "/usr/local/lib/python3.7/dist-packages/ipykernel_launcher.py:1: SettingWithCopyWarning: \n",
            "A value is trying to be set on a copy of a slice from a DataFrame.\n",
            "Try using .loc[row_indexer,col_indexer] = value instead\n",
            "\n",
            "See the caveats in the documentation: https://pandas.pydata.org/pandas-docs/stable/user_guide/indexing.html#returning-a-view-versus-a-copy\n",
            "  \"\"\"Entry point for launching an IPython kernel.\n"
          ]
        }
      ]
    },
    {
      "cell_type": "code",
      "source": [
        "new_df['tags'][0]"
      ],
      "metadata": {
        "colab": {
          "base_uri": "https://localhost:8080/",
          "height": 70
        },
        "id": "Bl8bUTiRTdLx",
        "outputId": "6395bb36-d221-4f67-f7d6-0f2c190b09e9"
      },
      "execution_count": 90,
      "outputs": [
        {
          "output_type": "execute_result",
          "data": {
            "application/vnd.google.colaboratory.intrinsic+json": {
              "type": "string"
            },
            "text/plain": [
              "'in the 22nd century, a parapleg marin is dispatch to the moon pandora on a uniqu mission, but becom torn between follow order and protect an alien civilization. action adventur fantasi sciencefict cultureclash futur spacewar spacecoloni societi spacetravel futurist romanc space alien tribe alienplanet cgi marin soldier battl loveaffair antiwar powerrel mindandsoul 3d samworthington zoesaldana sigourneyweav jamescameron'"
            ]
          },
          "metadata": {},
          "execution_count": 90
        }
      ]
    },
    {
      "cell_type": "code",
      "source": [
        "from sklearn.feature_extraction.text import CountVectorizer\n",
        "cv = CountVectorizer(max_features = 5000,stop_words = 'english')"
      ],
      "metadata": {
        "id": "3RDXmrCSTq4Q"
      },
      "execution_count": 91,
      "outputs": []
    },
    {
      "cell_type": "code",
      "source": [
        "vectors = cv.fit_transform(new_df['tags']).toarray()"
      ],
      "metadata": {
        "id": "AAM9vbgZTuKj"
      },
      "execution_count": 92,
      "outputs": []
    },
    {
      "cell_type": "code",
      "source": [
        "vectors"
      ],
      "metadata": {
        "colab": {
          "base_uri": "https://localhost:8080/"
        },
        "id": "_uxVm_r1TyIa",
        "outputId": "b40e5f25-681d-451d-caf7-22f331d8c3e0"
      },
      "execution_count": 93,
      "outputs": [
        {
          "output_type": "execute_result",
          "data": {
            "text/plain": [
              "array([[0, 0, 0, ..., 0, 0, 0],\n",
              "       [0, 0, 0, ..., 0, 0, 0],\n",
              "       [0, 0, 0, ..., 0, 0, 0],\n",
              "       ...,\n",
              "       [0, 0, 0, ..., 0, 0, 0],\n",
              "       [0, 0, 0, ..., 0, 0, 0],\n",
              "       [0, 0, 0, ..., 0, 0, 0]])"
            ]
          },
          "metadata": {},
          "execution_count": 93
        }
      ]
    },
    {
      "cell_type": "code",
      "source": [
        "vectors[0]"
      ],
      "metadata": {
        "colab": {
          "base_uri": "https://localhost:8080/"
        },
        "id": "H-WOcdAZTza_",
        "outputId": "adedd8cf-7819-462f-8159-2ab915237066"
      },
      "execution_count": 94,
      "outputs": [
        {
          "output_type": "execute_result",
          "data": {
            "text/plain": [
              "array([0, 0, 0, ..., 0, 0, 0])"
            ]
          },
          "metadata": {},
          "execution_count": 94
        }
      ]
    },
    {
      "cell_type": "code",
      "source": [
        "len(cv.get_feature_names())"
      ],
      "metadata": {
        "colab": {
          "base_uri": "https://localhost:8080/"
        },
        "id": "D_cqSCcBT3qT",
        "outputId": "b6ddae8e-3eef-44cd-dacd-e75a382bc0b3"
      },
      "execution_count": 95,
      "outputs": [
        {
          "output_type": "stream",
          "name": "stderr",
          "text": [
            "/usr/local/lib/python3.7/dist-packages/sklearn/utils/deprecation.py:87: FutureWarning: Function get_feature_names is deprecated; get_feature_names is deprecated in 1.0 and will be removed in 1.2. Please use get_feature_names_out instead.\n",
            "  warnings.warn(msg, category=FutureWarning)\n"
          ]
        },
        {
          "output_type": "execute_result",
          "data": {
            "text/plain": [
              "5000"
            ]
          },
          "metadata": {},
          "execution_count": 95
        }
      ]
    },
    {
      "cell_type": "code",
      "source": [
        "cv.get_feature_names()"
      ],
      "metadata": {
        "colab": {
          "base_uri": "https://localhost:8080/"
        },
        "id": "3ehVgjJyT5E2",
        "outputId": "34d5f2dd-788d-47e4-c8d7-0ddfe5afa333"
      },
      "execution_count": 96,
      "outputs": [
        {
          "output_type": "stream",
          "name": "stderr",
          "text": [
            "/usr/local/lib/python3.7/dist-packages/sklearn/utils/deprecation.py:87: FutureWarning: Function get_feature_names is deprecated; get_feature_names is deprecated in 1.0 and will be removed in 1.2. Please use get_feature_names_out instead.\n",
            "  warnings.warn(msg, category=FutureWarning)\n"
          ]
        },
        {
          "output_type": "execute_result",
          "data": {
            "text/plain": [
              "['000',\n",
              " '007',\n",
              " '10',\n",
              " '100',\n",
              " '11',\n",
              " '12',\n",
              " '13',\n",
              " '14',\n",
              " '15',\n",
              " '16',\n",
              " '17',\n",
              " '17th',\n",
              " '18',\n",
              " '18th',\n",
              " '18thcenturi',\n",
              " '19',\n",
              " '1910',\n",
              " '1920',\n",
              " '1930',\n",
              " '1940',\n",
              " '1944',\n",
              " '1950',\n",
              " '1950s',\n",
              " '1960',\n",
              " '1960s',\n",
              " '1970',\n",
              " '1970s',\n",
              " '1971',\n",
              " '1974',\n",
              " '1976',\n",
              " '1980',\n",
              " '1985',\n",
              " '1990',\n",
              " '1999',\n",
              " '19th',\n",
              " '19thcenturi',\n",
              " '20',\n",
              " '200',\n",
              " '2003',\n",
              " '2009',\n",
              " '20th',\n",
              " '21st',\n",
              " '23',\n",
              " '24',\n",
              " '25',\n",
              " '30',\n",
              " '300',\n",
              " '3d',\n",
              " '40',\n",
              " '50',\n",
              " '500',\n",
              " '60',\n",
              " '70',\n",
              " '80',\n",
              " 'aaron',\n",
              " 'aaroneckhart',\n",
              " 'abandon',\n",
              " 'abduct',\n",
              " 'abigailbreslin',\n",
              " 'abil',\n",
              " 'abl',\n",
              " 'aboard',\n",
              " 'abov',\n",
              " 'abus',\n",
              " 'academ',\n",
              " 'academi',\n",
              " 'accept',\n",
              " 'access',\n",
              " 'accid',\n",
              " 'accident',\n",
              " 'acclaim',\n",
              " 'accompani',\n",
              " 'accomplish',\n",
              " 'account',\n",
              " 'accus',\n",
              " 'ace',\n",
              " 'achiev',\n",
              " 'acquaint',\n",
              " 'act',\n",
              " 'action',\n",
              " 'actionhero',\n",
              " 'activ',\n",
              " 'activist',\n",
              " 'activities',\n",
              " 'actor',\n",
              " 'actress',\n",
              " 'actual',\n",
              " 'ad',\n",
              " 'adam',\n",
              " 'adamsandl',\n",
              " 'adamshankman',\n",
              " 'adapt',\n",
              " 'add',\n",
              " 'addict',\n",
              " 'adjust',\n",
              " 'admir',\n",
              " 'admit',\n",
              " 'adolesc',\n",
              " 'adopt',\n",
              " 'ador',\n",
              " 'adrienbrodi',\n",
              " 'adult',\n",
              " 'adultanim',\n",
              " 'adulteri',\n",
              " 'adulthood',\n",
              " 'advanc',\n",
              " 'adventur',\n",
              " 'adventure',\n",
              " 'adventures',\n",
              " 'advertis',\n",
              " 'advic',\n",
              " 'advis',\n",
              " 'affair',\n",
              " 'affect',\n",
              " 'afghanistan',\n",
              " 'africa',\n",
              " 'african',\n",
              " 'africanamerican',\n",
              " 'aftercreditssting',\n",
              " 'afterlif',\n",
              " 'aftermath',\n",
              " 'ag',\n",
              " 'age',\n",
              " 'agediffer',\n",
              " 'agenc',\n",
              " 'agency',\n",
              " 'agenda',\n",
              " 'agent',\n",
              " 'agents',\n",
              " 'aggress',\n",
              " 'ago',\n",
              " 'agre',\n",
              " 'ahead',\n",
              " 'aid',\n",
              " 'aidanquinn',\n",
              " 'ail',\n",
              " 'aim',\n",
              " 'air',\n",
              " 'airplan',\n",
              " 'airplanecrash',\n",
              " 'airport',\n",
              " 'aka',\n",
              " 'al',\n",
              " 'alabama',\n",
              " 'alan',\n",
              " 'alaska',\n",
              " 'albert',\n",
              " 'alcatraz',\n",
              " 'alcohol',\n",
              " 'alecbaldwin',\n",
              " 'alex',\n",
              " 'alexkendrick',\n",
              " 'alfredhitchcock',\n",
              " 'alfredmolina',\n",
              " 'ali',\n",
              " 'alic',\n",
              " 'alice',\n",
              " 'alien',\n",
              " 'alieninvas',\n",
              " 'alienlife',\n",
              " 'alienplanet',\n",
              " 'aliens',\n",
              " 'alik',\n",
              " 'aliv',\n",
              " 'alive',\n",
              " 'allen',\n",
              " 'alli',\n",
              " 'allianc',\n",
              " 'allow',\n",
              " 'alon',\n",
              " 'alongsid',\n",
              " 'alpacino',\n",
              " 'alpha',\n",
              " 'alreadi',\n",
              " 'alter',\n",
              " 'altern',\n",
              " 'alway',\n",
              " 'alyssa',\n",
              " 'alzheimer',\n",
              " 'amanda',\n",
              " 'amandapeet',\n",
              " 'amandaseyfri',\n",
              " 'amateur',\n",
              " 'amaz',\n",
              " 'amazon',\n",
              " 'ambassador',\n",
              " 'ambit',\n",
              " 'ambiti',\n",
              " 'ambul',\n",
              " 'ambush',\n",
              " 'america',\n",
              " 'american',\n",
              " 'americanabroad',\n",
              " 'americancivilwar',\n",
              " 'americanfootbal',\n",
              " 'americanfootballplay',\n",
              " 'amid',\n",
              " 'amidst',\n",
              " 'amnesia',\n",
              " 'amp',\n",
              " 'amsterdam',\n",
              " 'amus',\n",
              " 'amusementpark',\n",
              " 'amy',\n",
              " 'amyadam',\n",
              " 'amysmart',\n",
              " 'ana',\n",
              " 'anakin',\n",
              " 'analyst',\n",
              " 'anarchiccomedi',\n",
              " 'ancient',\n",
              " 'ancientrom',\n",
              " 'ancientworld',\n",
              " 'anderson',\n",
              " 'andi',\n",
              " 'andiemacdowel',\n",
              " 'andrew',\n",
              " 'android',\n",
              " 'andy',\n",
              " 'andygarcía',\n",
              " 'angel',\n",
              " 'angela',\n",
              " 'angelabassett',\n",
              " 'angeles',\n",
              " 'angelinajoli',\n",
              " 'anger',\n",
              " 'angle',\n",
              " 'angri',\n",
              " 'ani',\n",
              " 'anim',\n",
              " 'animalattack',\n",
              " 'animalhorror',\n",
              " 'animals',\n",
              " 'anjelicahuston',\n",
              " 'ann',\n",
              " 'anna',\n",
              " 'annafari',\n",
              " 'annakendrick',\n",
              " 'anne',\n",
              " 'annehathaway',\n",
              " 'annemoss',\n",
              " 'annetteben',\n",
              " 'anni',\n",
              " 'annie',\n",
              " 'anniversari',\n",
              " 'announc',\n",
              " 'annual',\n",
              " 'anonym',\n",
              " 'anoth',\n",
              " 'answer',\n",
              " 'ant',\n",
              " 'antholog',\n",
              " 'anthoni',\n",
              " 'anthonyanderson',\n",
              " 'anthonyhopkin',\n",
              " 'anthropomorph',\n",
              " 'anti',\n",
              " 'antic',\n",
              " 'antihero',\n",
              " 'antiqu',\n",
              " 'antoinefuqua',\n",
              " 'antoniobandera',\n",
              " 'antonyelchin',\n",
              " 'anyon',\n",
              " 'anyth',\n",
              " 'apart',\n",
              " 'apartheid',\n",
              " 'apartment',\n",
              " 'ape',\n",
              " 'apocalyps',\n",
              " 'apocalypse',\n",
              " 'apocalypt',\n",
              " 'appar',\n",
              " 'appear',\n",
              " 'appl',\n",
              " 'apple',\n",
              " 'appoint',\n",
              " 'appreci',\n",
              " 'apprentic',\n",
              " 'approach',\n",
              " 'april',\n",
              " 'aquarium',\n",
              " 'arab',\n",
              " 'arch',\n",
              " 'archaeologist',\n",
              " 'archeolog',\n",
              " 'archer',\n",
              " 'architect',\n",
              " 'arctic',\n",
              " 'area',\n",
              " 'aren',\n",
              " 'arena',\n",
              " 'argument',\n",
              " 'aris',\n",
              " 'aristocrat',\n",
              " 'arm',\n",
              " 'armi',\n",
              " 'armor',\n",
              " 'armsdeal',\n",
              " 'army',\n",
              " 'arnold',\n",
              " 'arnoldschwarzenegg',\n",
              " 'arrang',\n",
              " 'arrangedmarriag',\n",
              " 'arrest',\n",
              " 'arriv',\n",
              " 'arrog',\n",
              " 'art',\n",
              " 'arthur',\n",
              " 'artifact',\n",
              " 'artifici',\n",
              " 'artificialintellig',\n",
              " 'artist',\n",
              " 'ash',\n",
              " 'ashley',\n",
              " 'ashleyjudd',\n",
              " 'ashtonkutch',\n",
              " 'asia',\n",
              " 'asian',\n",
              " 'asid',\n",
              " 'ask',\n",
              " 'aspect',\n",
              " 'aspir',\n",
              " 'assassin',\n",
              " 'assault',\n",
              " 'assembl',\n",
              " 'assign',\n",
              " 'assist',\n",
              " 'assistant',\n",
              " 'associ',\n",
              " 'assum',\n",
              " 'asteroid',\n",
              " 'astronaut',\n",
              " 'asylum',\n",
              " 'atheist',\n",
              " 'athlet',\n",
              " 'atom',\n",
              " 'atomicbomb',\n",
              " 'attack',\n",
              " 'attacks',\n",
              " 'attempt',\n",
              " 'attend',\n",
              " 'attent',\n",
              " 'attic',\n",
              " 'attitud',\n",
              " 'attorney',\n",
              " 'attract',\n",
              " 'auction',\n",
              " 'audienc',\n",
              " 'audit',\n",
              " 'august',\n",
              " 'aunt',\n",
              " 'austin',\n",
              " 'australia',\n",
              " 'australian',\n",
              " 'author',\n",
              " 'autism',\n",
              " 'auto',\n",
              " 'automobilerac',\n",
              " 'aveng',\n",
              " 'averag',\n",
              " 'avoid',\n",
              " 'await',\n",
              " 'awak',\n",
              " 'awaken',\n",
              " 'awar',\n",
              " 'award',\n",
              " 'away',\n",
              " 'awkward',\n",
              " 'awri',\n",
              " 'awry',\n",
              " 'ax',\n",
              " 'babe',\n",
              " 'babi',\n",
              " 'baby',\n",
              " 'bachelor',\n",
              " 'backdrop',\n",
              " 'background',\n",
              " 'backpack',\n",
              " 'bad',\n",
              " 'bag',\n",
              " 'bahama',\n",
              " 'bail',\n",
              " 'balanc',\n",
              " 'ball',\n",
              " 'ballet',\n",
              " 'balloon',\n",
              " 'baltimor',\n",
              " 'ban',\n",
              " 'band',\n",
              " 'bandit',\n",
              " 'bangkok',\n",
              " 'banish',\n",
              " 'bank',\n",
              " 'banker',\n",
              " 'bankrobb',\n",
              " 'bankrobberi',\n",
              " 'bar',\n",
              " 'barbrastreisand',\n",
              " 'bare',\n",
              " 'bargain',\n",
              " 'barn',\n",
              " 'barney',\n",
              " 'baron',\n",
              " 'barri',\n",
              " 'barrylevinson',\n",
              " 'barrysonnenfeld',\n",
              " 'bas',\n",
              " 'base',\n",
              " 'basebal',\n",
              " 'basedoncomicbook',\n",
              " 'basedongraphicnovel',\n",
              " 'basedonnovel',\n",
              " 'basedonplay',\n",
              " 'basedonstagemus',\n",
              " 'basedontrueev',\n",
              " 'basedontruestori',\n",
              " 'basedontvseri',\n",
              " 'basedonvideogam',\n",
              " 'basedonyoungadultnovel',\n",
              " 'basement',\n",
              " 'basketbal',\n",
              " 'basketball',\n",
              " 'bat',\n",
              " 'batman',\n",
              " 'battl',\n",
              " 'battle',\n",
              " 'battlefield',\n",
              " 'bay',\n",
              " 'beach',\n",
              " 'beam',\n",
              " 'bear',\n",
              " 'beard',\n",
              " 'beast',\n",
              " 'beat',\n",
              " 'beauti',\n",
              " 'beautiful',\n",
              " 'beautifulwoman',\n",
              " 'beauty',\n",
              " 'becam',\n",
              " 'becaus',\n",
              " 'becki',\n",
              " 'becom',\n",
              " 'becominganadult',\n",
              " 'bed',\n",
              " 'bedroom',\n",
              " 'bee',\n",
              " 'beer',\n",
              " 'befor',\n",
              " 'befriend',\n",
              " 'began',\n",
              " 'begin',\n",
              " 'begins',\n",
              " 'behavior',\n",
              " 'belief',\n",
              " 'believ',\n",
              " 'bell',\n",
              " 'bella',\n",
              " 'belong',\n",
              " 'belov',\n",
              " 'ben',\n",
              " 'benaffleck',\n",
              " 'bend',\n",
              " 'beneath',\n",
              " 'benefit',\n",
              " 'benfost',\n",
              " 'beniciodeltoro',\n",
              " 'benjamin',\n",
              " 'benjaminbratt',\n",
              " 'benkingsley',\n",
              " 'bennett',\n",
              " 'benstil',\n",
              " 'bent',\n",
              " 'berlin',\n",
              " 'best',\n",
              " 'bestfriend',\n",
              " 'bestfriendsinlov',\n",
              " 'bet',\n",
              " 'beth',\n",
              " 'betray',\n",
              " 'bettemidl',\n",
              " 'better',\n",
              " 'betti',\n",
              " 'beverli',\n",
              " 'bibl',\n",
              " 'bid',\n",
              " 'big',\n",
              " 'bigger',\n",
              " 'biggest',\n",
              " 'bike',\n",
              " 'biker',\n",
              " 'bikini',\n",
              " 'billhad',\n",
              " 'billi',\n",
              " 'billionair',\n",
              " 'billmurray',\n",
              " 'billnighi',\n",
              " 'billpaxton',\n",
              " 'billpullman',\n",
              " 'billybobthornton',\n",
              " 'billycrudup',\n",
              " 'billycryst',\n",
              " 'biographi',\n",
              " 'biolog',\n",
              " 'bird',\n",
              " 'birth',\n",
              " 'birthday',\n",
              " 'bisexu',\n",
              " 'bishop',\n",
              " 'bit',\n",
              " 'bite',\n",
              " 'bitter',\n",
              " 'bizarr',\n",
              " 'black',\n",
              " 'blackmag',\n",
              " 'blackmail',\n",
              " 'blackpeopl',\n",
              " 'blacksmith',\n",
              " 'blade',\n",
              " 'blame',\n",
              " 'blend',\n",
              " 'blind',\n",
              " 'bliss',\n",
              " 'blizzard',\n",
              " 'block',\n",
              " 'blond',\n",
              " 'blood',\n",
              " 'bloodi',\n",
              " 'bloodsplatt',\n",
              " 'bloodthirsti',\n",
              " 'blow',\n",
              " 'blue',\n",
              " 'board',\n",
              " 'boardingschool',\n",
              " 'boat',\n",
              " 'bob',\n",
              " 'bobbi',\n",
              " 'bobbyfarrelli',\n",
              " 'bobhoskin',\n",
              " 'bodi',\n",
              " 'body',\n",
              " 'bodyguard',\n",
              " 'bold',\n",
              " 'bollywood',\n",
              " 'bomb',\n",
              " 'bond',\n",
              " 'bone',\n",
              " 'book',\n",
              " 'border',\n",
              " 'bore',\n",
              " 'boredom',\n",
              " 'born',\n",
              " 'boss',\n",
              " 'boston',\n",
              " 'botch',\n",
              " 'bound',\n",
              " 'boundari',\n",
              " 'bounti',\n",
              " 'bountyhunt',\n",
              " 'bout',\n",
              " 'box',\n",
              " 'boxer',\n",
              " 'boy',\n",
              " 'boyfriend',\n",
              " 'boys',\n",
              " 'bradleycoop',\n",
              " 'bradpitt',\n",
              " 'brain',\n",
              " 'brainwash',\n",
              " 'brand',\n",
              " 'brandon',\n",
              " 'brave',\n",
              " 'braveri',\n",
              " 'brazil',\n",
              " 'brazilian',\n",
              " 'break',\n",
              " 'breakdown',\n",
              " 'breast',\n",
              " 'breath',\n",
              " 'breed',\n",
              " 'brendanfras',\n",
              " 'brendangleeson',\n",
              " 'brent',\n",
              " 'brettratn',\n",
              " 'brian',\n",
              " 'briandepalma',\n",
              " 'bride',\n",
              " 'bridesmaid',\n",
              " 'bridg',\n",
              " 'brief',\n",
              " 'brielarson',\n",
              " 'brien',\n",
              " 'bright',\n",
              " 'brilliant',\n",
              " 'bring',\n",
              " 'brink',\n",
              " 'britain',\n",
              " 'british',\n",
              " 'britishsecretservic',\n",
              " 'brittanymurphi',\n",
              " 'broadcast',\n",
              " 'broadway',\n",
              " 'broke',\n",
              " 'broken',\n",
              " 'broker',\n",
              " 'bronx',\n",
              " 'brook',\n",
              " 'brooklyn',\n",
              " 'broom',\n",
              " 'brothel',\n",
              " 'brother',\n",
              " 'brotherbrotherrelationship',\n",
              " 'brothers',\n",
              " 'brothersisterrelationship',\n",
              " 'brought',\n",
              " 'brown',\n",
              " 'bruce',\n",
              " 'brucegreenwood',\n",
              " 'brucewilli',\n",
              " 'brutal',\n",
              " 'bryansing',\n",
              " 'bu',\n",
              " 'buck',\n",
              " 'bud',\n",
              " 'buddi',\n",
              " 'buddy',\n",
              " 'buddycomedi',\n",
              " 'buddycop',\n",
              " 'budget',\n",
              " 'build',\n",
              " 'building',\n",
              " 'built',\n",
              " 'bullet',\n",
              " 'bulli',\n",
              " 'bumbl',\n",
              " 'bunch',\n",
              " 'bunker',\n",
              " 'bunni',\n",
              " 'burglar',\n",
              " 'buri',\n",
              " 'burn',\n",
              " 'bush',\n",
              " 'busi',\n",
              " 'business',\n",
              " 'businessman',\n",
              " 'bust',\n",
              " 'butcher',\n",
              " 'butler',\n",
              " 'butt',\n",
              " 'button',\n",
              " 'buy',\n",
              " 'buzz',\n",
              " 'cabin',\n",
              " 'caesar',\n",
              " 'cage',\n",
              " 'cairo',\n",
              " 'cal',\n",
              " 'california',\n",
              " 'calvin',\n",
              " 'camcord',\n",
              " 'came',\n",
              " 'camera',\n",
              " 'cameraman',\n",
              " 'camerondiaz',\n",
              " 'camp',\n",
              " 'campaign',\n",
              " 'campbell',\n",
              " 'campu',\n",
              " 'canada',\n",
              " 'canadian',\n",
              " 'cancer',\n",
              " 'candi',\n",
              " 'candid',\n",
              " 'canin',\n",
              " 'cannib',\n",
              " 'canuxploit',\n",
              " 'capabl',\n",
              " 'caper',\n",
              " 'capit',\n",
              " 'capt',\n",
              " 'captain',\n",
              " 'captiv',\n",
              " 'captur',\n",
              " 'capture',\n",
              " 'car',\n",
              " 'caraccid',\n",
              " 'carchas',\n",
              " 'carcrash',\n",
              " 'card',\n",
              " 'care',\n",
              " 'career',\n",
              " 'carefre',\n",
              " 'caretak',\n",
              " 'careymulligan',\n",
              " 'caribbean',\n",
              " 'carjourney',\n",
              " 'carl',\n",
              " 'carlagugino',\n",
              " 'carmen',\n",
              " 'carol',\n",
              " 'carolina',\n",
              " 'carrac',\n",
              " 'carri',\n",
              " 'carrie',\n",
              " 'cartel',\n",
              " 'carter',\n",
              " 'cartoon',\n",
              " 'caryelw',\n",
              " 'case',\n",
              " 'caseyaffleck',\n",
              " 'cash',\n",
              " 'casino',\n",
              " 'cast',\n",
              " 'castl',\n",
              " 'cat',\n",
              " 'cataclysm',\n",
              " 'catastroph',\n",
              " 'catch',\n",
              " 'cateblanchett',\n",
              " 'catherinedeneuv',\n",
              " 'catherinekeen',\n",
              " 'catherinezeta',\n",
              " 'cathol',\n",
              " 'catholic',\n",
              " 'cattl',\n",
              " 'caught',\n",
              " 'caus',\n",
              " 'cavalri',\n",
              " 'cave',\n",
              " 'cavemen',\n",
              " 'celebr',\n",
              " 'celebration',\n",
              " 'cell',\n",
              " 'cellphon',\n",
              " 'cemeteri',\n",
              " 'center',\n",
              " 'centr',\n",
              " 'central',\n",
              " 'centuri',\n",
              " 'centuries',\n",
              " 'century',\n",
              " 'ceo',\n",
              " 'certain',\n",
              " 'chad',\n",
              " 'chain',\n",
              " 'chainsaw',\n",
              " 'challeng',\n",
              " 'chamber',\n",
              " 'champion',\n",
              " 'championship',\n",
              " 'chanc',\n",
              " 'chance',\n",
              " 'chang',\n",
              " 'change',\n",
              " 'changed',\n",
              " 'changes',\n",
              " 'channingtatum',\n",
              " 'chao',\n",
              " 'chaos',\n",
              " 'chaotic',\n",
              " 'chapter',\n",
              " 'charact',\n",
              " 'character',\n",
              " 'characters',\n",
              " 'charg',\n",
              " 'charismat',\n",
              " 'charl',\n",
              " 'charli',\n",
              " 'charlie',\n",
              " 'charliesheen',\n",
              " 'charlizetheron',\n",
              " 'charm',\n",
              " 'chart',\n",
              " 'chase',\n",
              " 'chauffeur',\n",
              " 'chazzpalminteri',\n",
              " 'cheat',\n",
              " 'check',\n",
              " 'cheerlead',\n",
              " 'chef',\n",
              " 'chemic',\n",
              " 'cher',\n",
              " 'chevychas',\n",
              " 'chicago',\n",
              " 'chicken',\n",
              " 'chief',\n",
              " 'child',\n",
              " 'childabus',\n",
              " 'childhero',\n",
              " 'childhood',\n",
              " 'childprodigi',\n",
              " 'children',\n",
              " 'chill',\n",
              " 'chimp',\n",
              " 'china',\n",
              " 'chines',\n",
              " 'chip',\n",
              " 'chipmunk',\n",
              " 'chiwetelejiofor',\n",
              " 'chloe',\n",
              " 'chloëgracemoretz',\n",
              " 'chloësevigni',\n",
              " 'chocol',\n",
              " 'choic',\n",
              " 'choice',\n",
              " 'choos',\n",
              " 'chosen',\n",
              " 'chowyun',\n",
              " 'chri',\n",
              " 'chriscolumbu',\n",
              " 'chriscoop',\n",
              " 'chrisevan',\n",
              " 'chrishemsworth',\n",
              " 'chrisklein',\n",
              " 'chrispin',\n",
              " 'chrisrock',\n",
              " 'christ',\n",
              " 'christian',\n",
              " 'christianbal',\n",
              " 'christianslat',\n",
              " 'christin',\n",
              " 'christinaappleg',\n",
              " 'christinaricci',\n",
              " 'christma',\n",
              " 'christmas',\n",
              " 'christmasparti',\n",
              " 'christmastre',\n",
              " 'christoph',\n",
              " 'christopherlambert',\n",
              " 'christopherlloyd',\n",
              " 'christophernolan',\n",
              " 'christopherplumm',\n",
              " 'christopherwalken',\n",
              " 'christophwaltz',\n",
              " 'chrisweitz',\n",
              " 'chronicl',\n",
              " 'chuck',\n",
              " 'church',\n",
              " 'cia',\n",
              " 'ciaránhind',\n",
              " 'cigarettesmok',\n",
              " 'cillianmurphi',\n",
              " 'cinema',\n",
              " 'circl',\n",
              " 'circu',\n",
              " 'circuit',\n",
              " 'circumst',\n",
              " 'citi',\n",
              " 'citizen',\n",
              " 'city',\n",
              " 'civil',\n",
              " 'civilian',\n",
              " 'civilwar',\n",
              " 'claim',\n",
              " 'clair',\n",
              " 'clairedan',\n",
              " 'claireforlani',\n",
              " 'clan',\n",
              " 'clark',\n",
              " 'clash',\n",
              " 'class',\n",
              " 'classdiffer',\n",
              " 'classic',\n",
              " 'classmat',\n",
              " 'classroom',\n",
              " 'claudevandamm',\n",
              " 'clay',\n",
              " 'clean',\n",
              " 'clear',\n",
              " 'clerk',\n",
              " 'clever',\n",
              " 'client',\n",
              " 'clients',\n",
              " 'cliff',\n",
              " 'climat',\n",
              " 'climb',\n",
              " 'clinteastwood',\n",
              " 'cliveowen',\n",
              " 'clock',\n",
              " 'clone',\n",
              " 'close',\n",
              " 'closer',\n",
              " 'cloud',\n",
              " 'clown',\n",
              " 'club',\n",
              " 'clue',\n",
              " 'clueless',\n",
              " 'clutch',\n",
              " 'coach',\n",
              " 'coast',\n",
              " 'cocain',\n",
              " 'code',\n",
              " 'coffin',\n",
              " 'cohen',\n",
              " 'col',\n",
              " 'cold',\n",
              " 'coldwar',\n",
              " 'cole',\n",
              " 'colin',\n",
              " 'colinfarrel',\n",
              " 'colinfirth',\n",
              " 'collaps',\n",
              " 'colleagu',\n",
              " 'collect',\n",
              " 'collector',\n",
              " 'colleg',\n",
              " 'college',\n",
              " 'collid',\n",
              " 'collis',\n",
              " 'colombia',\n",
              " 'colonel',\n",
              " 'coloni',\n",
              " 'color',\n",
              " 'colorado',\n",
              " 'coma',\n",
              " 'combat',\n",
              " 'combin',\n",
              " 'come',\n",
              " 'comeback',\n",
              " 'comed',\n",
              " 'comedi',\n",
              " 'comedian',\n",
              " 'comedy',\n",
              " 'comet',\n",
              " 'comfort',\n",
              " 'comic',\n",
              " 'coming',\n",
              " 'comingofag',\n",
              " 'comingout',\n",
              " 'command',\n",
              " 'commando',\n",
              " 'commerci',\n",
              " 'commiss',\n",
              " 'commit',\n",
              " 'common',\n",
              " 'commun',\n",
              " 'communist',\n",
              " 'community',\n",
              " 'compani',\n",
              " 'companion',\n",
              " 'company',\n",
              " 'compet',\n",
              " 'competit',\n",
              " 'competition',\n",
              " 'complet',\n",
              " 'complex',\n",
              " 'complic',\n",
              " 'compos',\n",
              " 'compuls',\n",
              " 'comput',\n",
              " 'computerviru',\n",
              " 'conan',\n",
              " 'concern',\n",
              " 'concert',\n",
              " 'concoct',\n",
              " 'condit',\n",
              " 'condition',\n",
              " 'conduct',\n",
              " 'confeder',\n",
              " 'confess',\n",
              " 'confid',\n",
              " 'confin',\n",
              " 'conflict',\n",
              " 'confront',\n",
              " 'confus',\n",
              " 'congress',\n",
              " 'conman',\n",
              " 'connect',\n",
              " 'connecticut',\n",
              " 'connel',\n",
              " 'connor',\n",
              " 'conquer',\n",
              " 'consequ',\n",
              " 'consequences',\n",
              " 'conserv',\n",
              " 'consid',\n",
              " 'conspir',\n",
              " 'conspiraci',\n",
              " 'conspiracy',\n",
              " 'constant',\n",
              " 'constantli',\n",
              " 'construct',\n",
              " 'consum',\n",
              " 'contact',\n",
              " 'contain',\n",
              " 'contemporari',\n",
              " 'contend',\n",
              " 'content',\n",
              " 'contest',\n",
              " 'continu',\n",
              " 'contract',\n",
              " 'contractor',\n",
              " 'control',\n",
              " 'controversi',\n",
              " 'convent',\n",
              " 'converg',\n",
              " 'convers',\n",
              " 'convict',\n",
              " 'convinc',\n",
              " 'cook',\n",
              " ...]"
            ]
          },
          "metadata": {},
          "execution_count": 96
        }
      ]
    },
    {
      "cell_type": "code",
      "source": [
        "from sklearn.metrics.pairwise import cosine_similarity "
      ],
      "metadata": {
        "id": "tvT3pYrwT9rP"
      },
      "execution_count": 97,
      "outputs": []
    },
    {
      "cell_type": "code",
      "source": [
        "cosine_similarity(vectors)"
      ],
      "metadata": {
        "colab": {
          "base_uri": "https://localhost:8080/"
        },
        "id": "dqlsyk1FUDzV",
        "outputId": "face7436-f2a6-493c-f784-98e7e8c7722a"
      },
      "execution_count": 98,
      "outputs": [
        {
          "output_type": "execute_result",
          "data": {
            "text/plain": [
              "array([[1.        , 0.08346223, 0.0860309 , ..., 0.04499213, 0.        ,\n",
              "        0.        ],\n",
              "       [0.08346223, 1.        , 0.06063391, ..., 0.02378257, 0.        ,\n",
              "        0.02615329],\n",
              "       [0.0860309 , 0.06063391, 1.        , ..., 0.02451452, 0.        ,\n",
              "        0.        ],\n",
              "       ...,\n",
              "       [0.04499213, 0.02378257, 0.02451452, ..., 1.        , 0.03962144,\n",
              "        0.04229549],\n",
              "       [0.        , 0.        , 0.        , ..., 0.03962144, 1.        ,\n",
              "        0.08714204],\n",
              "       [0.        , 0.02615329, 0.        , ..., 0.04229549, 0.08714204,\n",
              "        1.        ]])"
            ]
          },
          "metadata": {},
          "execution_count": 98
        }
      ]
    },
    {
      "cell_type": "code",
      "source": [
        "similarity = cosine_similarity(vectors)"
      ],
      "metadata": {
        "id": "PToUkZ3DUJZ_"
      },
      "execution_count": 99,
      "outputs": []
    },
    {
      "cell_type": "code",
      "source": [
        "similarity[0]"
      ],
      "metadata": {
        "colab": {
          "base_uri": "https://localhost:8080/"
        },
        "id": "ERC-CoJZUOLh",
        "outputId": "69295034-a786-47d9-84b3-d49689f61f10"
      },
      "execution_count": 100,
      "outputs": [
        {
          "output_type": "execute_result",
          "data": {
            "text/plain": [
              "array([1.        , 0.08346223, 0.0860309 , ..., 0.04499213, 0.        ,\n",
              "       0.        ])"
            ]
          },
          "metadata": {},
          "execution_count": 100
        }
      ]
    },
    {
      "cell_type": "code",
      "source": [
        "sorted(list(enumerate(similarity[0])),reverse = True,key = lambda x:x[1])[1:6]"
      ],
      "metadata": {
        "colab": {
          "base_uri": "https://localhost:8080/"
        },
        "id": "GQLjUVaCURts",
        "outputId": "6454ba16-ca9a-4835-8cbf-1adcc7139a29"
      },
      "execution_count": 101,
      "outputs": [
        {
          "output_type": "execute_result",
          "data": {
            "text/plain": [
              "[(1216, 0.28676966733820225),\n",
              " (2409, 0.26901379342448517),\n",
              " (3730, 0.2605130246476754),\n",
              " (507, 0.255608593705383),\n",
              " (539, 0.25038669783359574)]"
            ]
          },
          "metadata": {},
          "execution_count": 101
        }
      ]
    },
    {
      "cell_type": "code",
      "source": [
        "def recommend(movie):\n",
        "    movie_index = new_df[new_df['title'] == movie].index[0]\n",
        "    distances = similarity[movie_index]\n",
        "    movies_list = sorted(list(enumerate(distances)),reverse = True,key = lambda x:x[1])[1:6]\n",
        "    \n",
        "    for i in movies_list:\n",
        "        print(new_df.iloc[i[0]].title)"
      ],
      "metadata": {
        "id": "jkiPXUcJUVWj"
      },
      "execution_count": 102,
      "outputs": []
    },
    {
      "cell_type": "code",
      "source": [
        "recommend('Spider-Man 3')"
      ],
      "metadata": {
        "colab": {
          "base_uri": "https://localhost:8080/"
        },
        "id": "hXnklzqMUW9W",
        "outputId": "682c2e25-dbf4-42b9-df57-4ae7a17792f7"
      },
      "execution_count": 103,
      "outputs": [
        {
          "output_type": "stream",
          "name": "stdout",
          "text": [
            "Spider-Man 2\n",
            "Spider-Man\n",
            "The Amazing Spider-Man 2\n",
            "The Amazing Spider-Man\n",
            "Arachnophobia\n"
          ]
        }
      ]
    },
    {
      "cell_type": "code",
      "source": [
        "import pickle"
      ],
      "metadata": {
        "id": "QQIRH6acUbzR"
      },
      "execution_count": 104,
      "outputs": []
    },
    {
      "cell_type": "code",
      "source": [
        "pickle.dump(new_df,open('movies.pkl','wb'))"
      ],
      "metadata": {
        "id": "AfE4p7waUdNG"
      },
      "execution_count": 105,
      "outputs": []
    },
    {
      "cell_type": "code",
      "source": [
        "new_df['title'].values"
      ],
      "metadata": {
        "colab": {
          "base_uri": "https://localhost:8080/"
        },
        "id": "oD7P9PRjUiVn",
        "outputId": "340685e1-ae94-4f0f-f528-9edae4a73b4a"
      },
      "execution_count": 106,
      "outputs": [
        {
          "output_type": "execute_result",
          "data": {
            "text/plain": [
              "array(['Avatar', \"Pirates of the Caribbean: At World's End\", 'Spectre',\n",
              "       ..., 'Signed, Sealed, Delivered', 'Shanghai Calling',\n",
              "       'My Date with Drew'], dtype=object)"
            ]
          },
          "metadata": {},
          "execution_count": 106
        }
      ]
    },
    {
      "cell_type": "code",
      "source": [
        "pickle.dump(new_df.to_dict(),open('movies_dict.pkl','wb'))"
      ],
      "metadata": {
        "id": "glxv7aDdUrmI"
      },
      "execution_count": 107,
      "outputs": []
    },
    {
      "cell_type": "code",
      "source": [
        "pickle.dump(similarity,open('similarity.pkl','wb'))"
      ],
      "metadata": {
        "id": "oKZvOyxkUss_"
      },
      "execution_count": 108,
      "outputs": []
    }
  ]
}